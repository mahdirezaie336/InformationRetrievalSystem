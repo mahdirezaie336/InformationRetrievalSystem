{
 "cells": [
  {
   "cell_type": "code",
   "execution_count": 1,
   "id": "89757b6f",
   "metadata": {},
   "outputs": [],
   "source": [
    "from parsivar import Normalizer, Tokenizer, FindStems\n",
    "from stopwordsiso import stopwords\n",
    "from positional_index.index import PositionalIndex\n",
    "import json\n",
    "import pandas as pd"
   ]
  },
  {
   "cell_type": "markdown",
   "id": "b2e432e8",
   "metadata": {},
   "source": [
    "## 1 - Loading the json data"
   ]
  },
  {
   "cell_type": "code",
   "execution_count": 2,
   "id": "cb48d1a8",
   "metadata": {},
   "outputs": [],
   "source": [
    "with open('./IR_data_news_12k.json') as json_file:\n",
    "    docs = json.load(json_file)"
   ]
  },
  {
   "cell_type": "markdown",
   "id": "ae4513b9",
   "metadata": {},
   "source": [
    "## 2 - Doing all preprocesses"
   ]
  },
  {
   "cell_type": "code",
   "execution_count": 3,
   "id": "553ad307",
   "metadata": {},
   "outputs": [],
   "source": [
    "normalizer = Normalizer()\n",
    "tokenizer = Tokenizer()\n",
    "stemmer = FindStems()\n",
    "stop_words = stopwords('fa')"
   ]
  },
  {
   "cell_type": "code",
   "execution_count": 4,
   "id": "d89a8afc",
   "metadata": {},
   "outputs": [
    {
     "name": "stdout",
     "output_type": "stream",
     "text": [
      "Started preprocessing ...\n",
      "Finished preprocessing\n"
     ]
    }
   ],
   "source": [
    "print('Started preprocessing ...')\n",
    "for doc_id in docs:\n",
    "    text = docs[doc_id]['content']\n",
    "    stemmed_tokens = PositionalIndex.preprocess(text)\n",
    "    docs[doc_id]['tokens'] = stemmed_tokens\n",
    "print('Finished preprocessing')"
   ]
  },
  {
   "cell_type": "code",
   "execution_count": 5,
   "id": "50654f9a",
   "metadata": {},
   "outputs": [],
   "source": [
    "index = PositionalIndex()\n",
    "for doc_id in docs:\n",
    "    index.add_from_dict(doc_id, docs[doc_id])\n",
    "index.finish_indexing()"
   ]
  },
  {
   "cell_type": "code",
   "execution_count": 6,
   "id": "8b9d4b00",
   "metadata": {},
   "outputs": [
    {
     "data": {
      "text/html": [
       "<div>\n",
       "<style scoped>\n",
       "    .dataframe tbody tr th:only-of-type {\n",
       "        vertical-align: middle;\n",
       "    }\n",
       "\n",
       "    .dataframe tbody tr th {\n",
       "        vertical-align: top;\n",
       "    }\n",
       "\n",
       "    .dataframe thead th {\n",
       "        text-align: right;\n",
       "    }\n",
       "</style>\n",
       "<table border=\"1\" class=\"dataframe\">\n",
       "  <thead>\n",
       "    <tr style=\"text-align: right;\">\n",
       "      <th></th>\n",
       "      <th>title</th>\n",
       "      <th>url</th>\n",
       "      <th>rank</th>\n",
       "    </tr>\n",
       "  </thead>\n",
       "  <tbody>\n",
       "    <tr>\n",
       "      <th>3457</th>\n",
       "      <td>عزیزی‌خادم:‌ ما را به جادوگری متهم کردند ولی ج...</td>\n",
       "      <td>https://www.farsnews.ir/news/14001108000181/عز...</td>\n",
       "      <td>43</td>\n",
       "    </tr>\n",
       "    <tr>\n",
       "      <th>5268</th>\n",
       "      <td>توضیح فدراسیون فوتبال درمورد لزوم اصلاح اساسنا...</td>\n",
       "      <td>https://www.farsnews.ir/news/14001017000146/تو...</td>\n",
       "      <td>22</td>\n",
       "    </tr>\n",
       "    <tr>\n",
       "      <th>6323</th>\n",
       "      <td>عزیزی خادم:وقتی به فدراسیون آمدم یک چای خشک هم...</td>\n",
       "      <td>https://www.farsnews.ir/news/14001002000257/عز...</td>\n",
       "      <td>19</td>\n",
       "    </tr>\n",
       "    <tr>\n",
       "      <th>2788</th>\n",
       "      <td>اصولی: فدراسیون فوتبال جمهوری اسلامی ایران هست...</td>\n",
       "      <td>https://www.farsnews.ir/news/14001117000518/اص...</td>\n",
       "      <td>19</td>\n",
       "    </tr>\n",
       "    <tr>\n",
       "      <th>2626</th>\n",
       "      <td>ماجدی:فدراسیون فوتبال بدون حمایت مجلس و دولت ک...</td>\n",
       "      <td>https://www.farsnews.ir/news/14001119000114/ما...</td>\n",
       "      <td>18</td>\n",
       "    </tr>\n",
       "    <tr>\n",
       "      <th>...</th>\n",
       "      <td>...</td>\n",
       "      <td>...</td>\n",
       "      <td>...</td>\n",
       "    </tr>\n",
       "    <tr>\n",
       "      <th>3620</th>\n",
       "      <td>سلطانی:‌ پرسپولیسی‌ها تحمل کنند تا کاسه درویش ...</td>\n",
       "      <td>https://www.farsnews.ir/news/14001106000438/سل...</td>\n",
       "      <td>1</td>\n",
       "    </tr>\n",
       "    <tr>\n",
       "      <th>3615</th>\n",
       "      <td>مذاکره تراکتور با 2 خارجی و نامه نگاری با 3 با...</td>\n",
       "      <td>https://www.farsnews.ir/news/14001106000531/مذ...</td>\n",
       "      <td>1</td>\n",
       "    </tr>\n",
       "    <tr>\n",
       "      <th>3610</th>\n",
       "      <td>ادعای خبرنگار عراقی: طارمی بازی با عراق از دست...</td>\n",
       "      <td>https://www.farsnews.ir/news/14001106000596/اد...</td>\n",
       "      <td>1</td>\n",
       "    </tr>\n",
       "    <tr>\n",
       "      <th>3607</th>\n",
       "      <td>گزارش تمرین تیم ملی| سر و صدای عجیب ملی‌پوشان ...</td>\n",
       "      <td>https://www.farsnews.ir/news/14001106000633/گز...</td>\n",
       "      <td>1</td>\n",
       "    </tr>\n",
       "    <tr>\n",
       "      <th>3693</th>\n",
       "      <td>جام ملت های فوتبال بانوان آسیا| پاداش دو برابر...</td>\n",
       "      <td>https://www.farsnews.ir/news/14001105000489/جا...</td>\n",
       "      <td>1</td>\n",
       "    </tr>\n",
       "  </tbody>\n",
       "</table>\n",
       "<p>867 rows × 3 columns</p>\n",
       "</div>"
      ],
      "text/plain": [
       "                                                  title  \\\n",
       "3457  عزیزی‌خادم:‌ ما را به جادوگری متهم کردند ولی ج...   \n",
       "5268  توضیح فدراسیون فوتبال درمورد لزوم اصلاح اساسنا...   \n",
       "6323  عزیزی خادم:وقتی به فدراسیون آمدم یک چای خشک هم...   \n",
       "2788  اصولی: فدراسیون فوتبال جمهوری اسلامی ایران هست...   \n",
       "2626  ماجدی:فدراسیون فوتبال بدون حمایت مجلس و دولت ک...   \n",
       "...                                                 ...   \n",
       "3620  سلطانی:‌ پرسپولیسی‌ها تحمل کنند تا کاسه درویش ...   \n",
       "3615  مذاکره تراکتور با 2 خارجی و نامه نگاری با 3 با...   \n",
       "3610  ادعای خبرنگار عراقی: طارمی بازی با عراق از دست...   \n",
       "3607  گزارش تمرین تیم ملی| سر و صدای عجیب ملی‌پوشان ...   \n",
       "3693  جام ملت های فوتبال بانوان آسیا| پاداش دو برابر...   \n",
       "\n",
       "                                                    url  rank  \n",
       "3457  https://www.farsnews.ir/news/14001108000181/عز...    43  \n",
       "5268  https://www.farsnews.ir/news/14001017000146/تو...    22  \n",
       "6323  https://www.farsnews.ir/news/14001002000257/عز...    19  \n",
       "2788  https://www.farsnews.ir/news/14001117000518/اص...    19  \n",
       "2626  https://www.farsnews.ir/news/14001119000114/ما...    18  \n",
       "...                                                 ...   ...  \n",
       "3620  https://www.farsnews.ir/news/14001106000438/سل...     1  \n",
       "3615  https://www.farsnews.ir/news/14001106000531/مذ...     1  \n",
       "3610  https://www.farsnews.ir/news/14001106000596/اد...     1  \n",
       "3607  https://www.farsnews.ir/news/14001106000633/گز...     1  \n",
       "3693  https://www.farsnews.ir/news/14001105000489/جا...     1  \n",
       "\n",
       "[867 rows x 3 columns]"
      ]
     },
     "execution_count": 6,
     "metadata": {},
     "output_type": "execute_result"
    }
   ],
   "source": [
    "index.query('فدراسیون فوتبال')"
   ]
  },
  {
   "cell_type": "code",
   "execution_count": 7,
   "id": "ac92805d",
   "metadata": {
    "scrolled": true
   },
   "outputs": [
    {
     "data": {
      "text/html": [
       "<div>\n",
       "<style scoped>\n",
       "    .dataframe tbody tr th:only-of-type {\n",
       "        vertical-align: middle;\n",
       "    }\n",
       "\n",
       "    .dataframe tbody tr th {\n",
       "        vertical-align: top;\n",
       "    }\n",
       "\n",
       "    .dataframe thead th {\n",
       "        text-align: right;\n",
       "    }\n",
       "</style>\n",
       "<table border=\"1\" class=\"dataframe\">\n",
       "  <thead>\n",
       "    <tr style=\"text-align: right;\">\n",
       "      <th></th>\n",
       "      <th>title</th>\n",
       "      <th>url</th>\n",
       "      <th>rank</th>\n",
       "    </tr>\n",
       "  </thead>\n",
       "  <tbody>\n",
       "    <tr>\n",
       "      <th>5989</th>\n",
       "      <td>چند عضو مجمع انتخاباتی کمیته تاکنون مشخص شده‌ا...</td>\n",
       "      <td>https://www.farsnews.ir/news/14001006000509/چن...</td>\n",
       "      <td>24</td>\n",
       "    </tr>\n",
       "    <tr>\n",
       "      <th>5896</th>\n",
       "      <td>هشدار صالحی‌امیری در خصوص ادغام بودجه؛ دوستان ...</td>\n",
       "      <td>https://www.farsnews.ir/news/14001008000079/هش...</td>\n",
       "      <td>18</td>\n",
       "    </tr>\n",
       "    <tr>\n",
       "      <th>6638</th>\n",
       "      <td>نامه‌های باشگاه سیرجان جعلی از آب درآمد/تقوی: ...</td>\n",
       "      <td>https://www.farsnews.ir/news/14000927000393/نا...</td>\n",
       "      <td>18</td>\n",
       "    </tr>\n",
       "    <tr>\n",
       "      <th>154</th>\n",
       "      <td>ملایی: ورزش همگانی عقب‌ماندگی زیادی دارد/مشکلا...</td>\n",
       "      <td>https://www.farsnews.ir/news/14001222000123/مل...</td>\n",
       "      <td>17</td>\n",
       "    </tr>\n",
       "    <tr>\n",
       "      <th>2125</th>\n",
       "      <td>پولادگر: به درخواست اعضا مجمع بسکتبال به تعویق...</td>\n",
       "      <td>https://www.farsnews.ir/news/14001125000662/پو...</td>\n",
       "      <td>17</td>\n",
       "    </tr>\n",
       "    <tr>\n",
       "      <th>...</th>\n",
       "      <td>...</td>\n",
       "      <td>...</td>\n",
       "      <td>...</td>\n",
       "    </tr>\n",
       "    <tr>\n",
       "      <th>4888</th>\n",
       "      <td>سرخوردگی پرافتخارترین راننده جهان و ابهام در ر...</td>\n",
       "      <td>https://www.farsnews.ir/news/14001021000654/سر...</td>\n",
       "      <td>1</td>\n",
       "    </tr>\n",
       "    <tr>\n",
       "      <th>2147</th>\n",
       "      <td>ویلموتس فعلا از اخراج قسر در رفت</td>\n",
       "      <td>https://www.farsnews.ir/news/14001125000275/وی...</td>\n",
       "      <td>1</td>\n",
       "    </tr>\n",
       "    <tr>\n",
       "      <th>2149</th>\n",
       "      <td>وینگادا پرونده جنجال جدید کی‌روش در مصر را بست...</td>\n",
       "      <td>https://www.farsnews.ir/news/14001125000216/وی...</td>\n",
       "      <td>1</td>\n",
       "    </tr>\n",
       "    <tr>\n",
       "      <th>4836</th>\n",
       "      <td>صید نماینده ایران در بازی‌های المپیک زمستانی شد</td>\n",
       "      <td>https://www.farsnews.ir/news/14001022000538/صی...</td>\n",
       "      <td>1</td>\n",
       "    </tr>\n",
       "    <tr>\n",
       "      <th>3587</th>\n",
       "      <td>جریمه سنگین کمیته انضباطی برای تیم قعرنشین/ هر...</td>\n",
       "      <td>https://www.farsnews.ir/news/14001106000841/جر...</td>\n",
       "      <td>1</td>\n",
       "    </tr>\n",
       "  </tbody>\n",
       "</table>\n",
       "<p>642 rows × 3 columns</p>\n",
       "</div>"
      ],
      "text/plain": [
       "                                                  title  \\\n",
       "5989  چند عضو مجمع انتخاباتی کمیته تاکنون مشخص شده‌ا...   \n",
       "5896  هشدار صالحی‌امیری در خصوص ادغام بودجه؛ دوستان ...   \n",
       "6638  نامه‌های باشگاه سیرجان جعلی از آب درآمد/تقوی: ...   \n",
       "154   ملایی: ورزش همگانی عقب‌ماندگی زیادی دارد/مشکلا...   \n",
       "2125  پولادگر: به درخواست اعضا مجمع بسکتبال به تعویق...   \n",
       "...                                                 ...   \n",
       "4888  سرخوردگی پرافتخارترین راننده جهان و ابهام در ر...   \n",
       "2147                   ویلموتس فعلا از اخراج قسر در رفت   \n",
       "2149  وینگادا پرونده جنجال جدید کی‌روش در مصر را بست...   \n",
       "4836    صید نماینده ایران در بازی‌های المپیک زمستانی شد   \n",
       "3587  جریمه سنگین کمیته انضباطی برای تیم قعرنشین/ هر...   \n",
       "\n",
       "                                                    url  rank  \n",
       "5989  https://www.farsnews.ir/news/14001006000509/چن...    24  \n",
       "5896  https://www.farsnews.ir/news/14001008000079/هش...    18  \n",
       "6638  https://www.farsnews.ir/news/14000927000393/نا...    18  \n",
       "154   https://www.farsnews.ir/news/14001222000123/مل...    17  \n",
       "2125  https://www.farsnews.ir/news/14001125000662/پو...    17  \n",
       "...                                                 ...   ...  \n",
       "4888  https://www.farsnews.ir/news/14001021000654/سر...     1  \n",
       "2147  https://www.farsnews.ir/news/14001125000275/وی...     1  \n",
       "2149  https://www.farsnews.ir/news/14001125000216/وی...     1  \n",
       "4836  https://www.farsnews.ir/news/14001022000538/صی...     1  \n",
       "3587  https://www.farsnews.ir/news/14001106000841/جر...     1  \n",
       "\n",
       "[642 rows x 3 columns]"
      ]
     },
     "execution_count": 7,
     "metadata": {},
     "output_type": "execute_result"
    }
   ],
   "source": [
    "text = 'فدراسیون' + ' ! ' + 'فوتبال'\n",
    "index.query(text)"
   ]
  },
  {
   "cell_type": "markdown",
   "id": "0792001c",
   "metadata": {},
   "source": [
    "## Checking Zipf's law"
   ]
  },
  {
   "cell_type": "code",
   "execution_count": 8,
   "id": "6358370b",
   "metadata": {},
   "outputs": [],
   "source": [
    "with open('./IR_data_news_12k.json') as json_file:\n",
    "    docs = json.load(json_file)"
   ]
  },
  {
   "cell_type": "code",
   "execution_count": 9,
   "id": "64129777",
   "metadata": {},
   "outputs": [],
   "source": [
    "for doc_id in docs:\n",
    "    text = docs[doc_id]['content']\n",
    "    normalized_text = normalizer.normalize(text)\n",
    "    tokens = tokenizer.tokenize_words(normalized_text)\n",
    "    stemmed_tokens = pd.Series(tokens, dtype='object')\\\n",
    "            .apply(PositionalIndex.stemmer.convert_to_stem)\\\n",
    "            .values.tolist()\n",
    "    docs[doc_id]['tokens'] = stemmed_tokens"
   ]
  },
  {
   "cell_type": "code",
   "execution_count": 10,
   "id": "c208a4a0",
   "metadata": {},
   "outputs": [],
   "source": [
    "index2 = PositionalIndex()\n",
    "for doc_id in docs:\n",
    "    index2.add_from_dict(doc_id, docs[doc_id])\n",
    "index2.finish_indexing()"
   ]
  },
  {
   "cell_type": "code",
   "execution_count": 11,
   "id": "9d2ea09f",
   "metadata": {},
   "outputs": [
    {
     "data": {
      "text/plain": [
       "گزارش                  10482\n",
       "خبرگزاری               12001\n",
       "فارس                   12140\n",
       "کنفدراسیون               208\n",
       "فوتبال                  3313\n",
       "                       ...  \n",
       "سیاسی‌بودیم                1\n",
       "سا‌ل‌های                   1\n",
       "09100202920                1\n",
       "رایانامه                   1\n",
       "reportsanjesh@gmail        1\n",
       "Name: sizes, Length: 57357, dtype: int64"
      ]
     },
     "execution_count": 11,
     "metadata": {},
     "output_type": "execute_result"
    }
   ],
   "source": [
    "sizes = {}\n",
    "for term in index2.dictionary:\n",
    "    sizes[term] = len(index2.dictionary[term])\n",
    "sizes2_df = pd.Series(sizes, name='sizes')\n",
    "sizes = {}\n",
    "for term in index.dictionary:\n",
    "    sizes[term] = len(index.dictionary[term])\n",
    "sizes_df = pd.Series(sizes, name='sizes')\n",
    "sizes_df"
   ]
  },
  {
   "cell_type": "code",
   "execution_count": 12,
   "id": "daa2f1da",
   "metadata": {},
   "outputs": [
    {
     "data": {
      "text/plain": [
       "فارس                   12140\n",
       "پیام                   12121\n",
       "/                      12075\n",
       "انتهای                 12074\n",
       "خبرگزاری               12001\n",
       "                       ...  \n",
       "سالائف                     1\n",
       "حمص                        1\n",
       "تی4                        1\n",
       "پرداخته‌نشده‌و             1\n",
       "reportsanjesh@gmail        1\n",
       "Name: sizes, Length: 57357, dtype: int64"
      ]
     },
     "execution_count": 12,
     "metadata": {},
     "output_type": "execute_result"
    }
   ],
   "source": [
    "sizes_df.sort_values(ascending=False, inplace=True)\n",
    "sizes2_df.sort_values(ascending=False, inplace=True)\n",
    "sizes_df"
   ]
  },
  {
   "cell_type": "code",
   "execution_count": 13,
   "id": "fdecaedc",
   "metadata": {},
   "outputs": [],
   "source": [
    "import matplotlib.pyplot as plt\n",
    "%matplotlib inline\n",
    "import numpy as np\n",
    "import seaborn as sns\n",
    "sns.set_theme()"
   ]
  },
  {
   "cell_type": "code",
   "execution_count": 14,
   "id": "8bca05b6",
   "metadata": {},
   "outputs": [
    {
     "name": "stderr",
     "output_type": "stream",
     "text": [
      "/tmp/ipykernel_26081/3801583388.py:4: RuntimeWarning: divide by zero encountered in log\n",
      "  axes.plot(np.log(np.arange(len(sizes_df.values))), np.log(sizes_df.values), label='removing stop words')\n",
      "/tmp/ipykernel_26081/3801583388.py:5: RuntimeWarning: divide by zero encountered in log\n",
      "  axes.plot(np.log(np.arange(len(sizes2_df.values))), np.log(sizes2_df.values), label='keeping stop words')\n"
     ]
    },
    {
     "data": {
      "text/plain": [
       "<matplotlib.legend.Legend at 0x7f2395956d60>"
      ]
     },
     "execution_count": 14,
     "metadata": {},
     "output_type": "execute_result"
    },
    {
     "data": {
      "image/png": "[encoded data removed]",
      "text/plain": [
       "<Figure size 720x432 with 1 Axes>"
      ]
     },
     "metadata": {},
     "output_type": "display_data"
    }
   ],
   "source": [
    "fig, axes = plt.subplots(1, 1, figsize=(10, 6))\n",
    "axes.set_xlabel('Log(rank)')\n",
    "axes.set_ylabel('Log(frequency)')\n",
    "axes.plot(np.log(np.arange(len(sizes_df.values))), np.log(sizes_df.values), label='removing stop words')\n",
    "axes.plot(np.log(np.arange(len(sizes2_df.values))), np.log(sizes2_df.values), label='keeping stop words')\n",
    "axes.legend()"
   ]
  },
  {
   "cell_type": "markdown",
   "id": "5b049635",
   "metadata": {},
   "source": [
    "# Checking Heaps' law"
   ]
  },
  {
   "cell_type": "code",
   "execution_count": 15,
   "id": "f8d52c82",
   "metadata": {},
   "outputs": [],
   "source": [
    "with open('./IR_data_news_12k.json') as json_file:\n",
    "    docs = json.load(json_file)"
   ]
  },
  {
   "cell_type": "code",
   "execution_count": 16,
   "id": "72205534",
   "metadata": {},
   "outputs": [],
   "source": [
    "counted_tokens = []\n",
    "for i in [500, 1000, 1500, 2000]:\n",
    "    dictionary = set()\n",
    "    j = 0\n",
    "    count = 0\n",
    "    for doc_id in docs:\n",
    "        if j >= i:\n",
    "            break\n",
    "        text = docs[doc_id]['content']\n",
    "        normalized_text = normalizer.normalize(text)\n",
    "        tokens = tokenizer.tokenize_words(normalized_text)\n",
    "        nonstop_tokens = []\n",
    "        for token in tokens:\n",
    "            if token not in PositionalIndex.stop_words:\n",
    "                nonstop_tokens.append(token)\n",
    "                dictionary.add(token)\n",
    "        docs[doc_id]['tokens'] = nonstop_tokens\n",
    "        count += len(nonstop_tokens)\n",
    "        j += 1\n",
    "    counted_tokens.append((count, len(dictionary)))"
   ]
  },
  {
   "cell_type": "code",
   "execution_count": 17,
   "id": "ba58231e",
   "metadata": {},
   "outputs": [],
   "source": [
    "def func(x, k, b):\n",
    "    return np.log10(k) + (x * b)"
   ]
  },
  {
   "cell_type": "code",
   "execution_count": 18,
   "id": "f1ca3450",
   "metadata": {},
   "outputs": [
    {
     "data": {
      "text/plain": [
       "array([[4.88609009, 4.01124677],\n",
       "       [5.49259697, 4.31450021]])"
      ]
     },
     "execution_count": 18,
     "metadata": {},
     "output_type": "execute_result"
    }
   ],
   "source": [
    "c1 = np.log10(np.array(counted_tokens))\n",
    "min_max = [c1[:, 0].min(), c1[:, 0].max()]\n",
    "x = np.array([min_max])\n",
    "y = func(x, k=37, b=0.5)\n",
    "line1 = np.concatenate([x, y]).T\n",
    "line1"
   ]
  },
  {
   "cell_type": "code",
   "execution_count": 19,
   "id": "9546e513",
   "metadata": {},
   "outputs": [],
   "source": [
    "counted_tokens = []\n",
    "for i in [500, 1000, 1500, 2000]:\n",
    "    dictionary = set()\n",
    "    j = 0\n",
    "    count = 0\n",
    "    for doc_id in docs:\n",
    "        if j >= i:\n",
    "            break\n",
    "        text = docs[doc_id]['content']\n",
    "        normalized_text = normalizer.normalize(text)\n",
    "        tokens = tokenizer.tokenize_words(normalized_text)\n",
    "        nonstop_tokens = []\n",
    "        for token in tokens:\n",
    "            if token not in PositionalIndex.stop_words:\n",
    "                nonstop_tokens.append(token)\n",
    "        stemmed_tokens = pd.Series(nonstop_tokens, dtype='object')\\\n",
    "            .apply(PositionalIndex.stemmer.convert_to_stem)\\\n",
    "            .values.tolist()\n",
    "        for token in stemmed_tokens:\n",
    "            dictionary.add(token)\n",
    "        docs[doc_id]['tokens'] = stemmed_tokens\n",
    "        count += len(stemmed_tokens)\n",
    "        j += 1\n",
    "    counted_tokens.append((count, len(dictionary)))"
   ]
  },
  {
   "cell_type": "code",
   "execution_count": 20,
   "id": "6feb3e80",
   "metadata": {},
   "outputs": [
    {
     "data": {
      "text/plain": [
       "array([[4.88609009, 3.8978899 ],\n",
       "       [5.49259697, 4.20114335]])"
      ]
     },
     "execution_count": 20,
     "metadata": {},
     "output_type": "execute_result"
    }
   ],
   "source": [
    "c = np.log10(np.array(counted_tokens))\n",
    "min_max = [c[:, 0].min(), c[:, 0].max()]\n",
    "x = np.array([min_max])\n",
    "y = func(x, k=28.5, b=0.5)\n",
    "line = np.concatenate([x, y]).T\n",
    "line"
   ]
  },
  {
   "cell_type": "code",
   "execution_count": 21,
   "id": "5c0a4608",
   "metadata": {
    "scrolled": false
   },
   "outputs": [
    {
     "data": {
      "image/png": "[encoded data removed]",
      "text/plain": [
       "<Figure size 1080x432 with 2 Axes>"
      ]
     },
     "metadata": {},
     "output_type": "display_data"
    }
   ],
   "source": [
    "fig, ax = plt.subplots(1, 2, figsize=(15, 6), sharex=True, sharey=True)\n",
    "ax[0].set_xlabel('Log(M)')\n",
    "ax[0].set_ylabel('Log(T)')\n",
    "ax[1].set_xlabel('Log(M)')\n",
    "ax[1].set_ylabel('Log(T)')\n",
    "ax[0].plot(c1[:, 0], c1[:, 1], label='Actual Values', marker='o')\n",
    "ax[0].plot(line1[:, 0], line1[:, 1], label='Predicted Values', marker='o');\n",
    "ax[0].set_title('Before Stemming')\n",
    "ax[1].plot(c[:, 0], c[:, 1], label='Actual Values', marker='o')\n",
    "ax[1].plot(line[:, 0], line[:, 1], label='Predicted Values', marker='o');\n",
    "ax[1].set_title('After Stemming')\n",
    "ax[0].legend()\n",
    "ax[1].legend();"
   ]
  },
  {
   "cell_type": "code",
   "execution_count": 22,
   "id": "cd033227",
   "metadata": {},
   "outputs": [
    {
     "name": "stdout",
     "output_type": "stream",
     "text": [
      "After stemming:\n",
      "The whole vacabulary size is 57357\n",
      "The whole tokens count is 1562938\n"
     ]
    }
   ],
   "source": [
    "d = index.dictionary\n",
    "print('After stemming:')\n",
    "print('The whole vacabulary size is', len(d))\n",
    "print('The whole tokens count is', sum([len(d[i]) for i in d]))"
   ]
  },
  {
   "cell_type": "code",
   "execution_count": 23,
   "id": "408b9eab",
   "metadata": {},
   "outputs": [
    {
     "name": "stdout",
     "output_type": "stream",
     "text": [
      "Before stemming:\n",
      "The whole vacabulary size is 77889\n",
      "The whole tokens count is 2653593\n"
     ]
    }
   ],
   "source": [
    "counted_tokens = 0\n",
    "dictionary = set()\n",
    "for doc_id in docs:\n",
    "    text = docs[doc_id]['content']\n",
    "    normalized_text = normalizer.normalize(text)\n",
    "    tokens = tokenizer.tokenize_words(normalized_text)\n",
    "    nonstop_tokens = []\n",
    "    for token in tokens:\n",
    "        if token not in PositionalIndex.stop_words:\n",
    "            nonstop_tokens.append(token)\n",
    "            dictionary.add(token)\n",
    "    counted_tokens += len(nonstop_tokens)\n",
    "print('Before stemming:')\n",
    "print('The whole vacabulary size is', len(dictionary))\n",
    "print('The whole tokens count is', counted_tokens)"
   ]
  },
  {
   "cell_type": "code",
   "execution_count": 24,
   "id": "097bfac4",
   "metadata": {},
   "outputs": [
    {
     "name": "stdout",
     "output_type": "stream",
     "text": [
      "After stemming:\n",
      "The whole vacabulary size is 57357\n",
      "The whole tokens count is 2653593\n"
     ]
    }
   ],
   "source": [
    "counted_tokens = 0\n",
    "dictionary = set()\n",
    "for doc_id in docs:\n",
    "    text = docs[doc_id]['content']\n",
    "    normalized_text = normalizer.normalize(text)\n",
    "    tokens = tokenizer.tokenize_words(normalized_text)\n",
    "    nonstop_tokens = []\n",
    "    for token in tokens:\n",
    "        if token not in PositionalIndex.stop_words:\n",
    "            nonstop_tokens.append(token)\n",
    "    stemmed_tokens = pd.Series(nonstop_tokens, dtype='object')\\\n",
    "            .apply(PositionalIndex.stemmer.convert_to_stem)\\\n",
    "            .values.tolist()\n",
    "    for token in stemmed_tokens:\n",
    "        dictionary.add(token)\n",
    "    counted_tokens += len(stemmed_tokens)\n",
    "print('After stemming:')\n",
    "print('The whole vacabulary size is', len(dictionary))\n",
    "print('The whole tokens count is', counted_tokens)"
   ]
  },
  {
   "cell_type": "markdown",
   "id": "1ab34c21",
   "metadata": {},
   "source": [
    "# Queries"
   ]
  },
  {
   "cell_type": "code",
   "execution_count": 25,
   "id": "519dfa5f",
   "metadata": {},
   "outputs": [
    {
     "data": {
      "text/html": [
       "<div>\n",
       "<style scoped>\n",
       "    .dataframe tbody tr th:only-of-type {\n",
       "        vertical-align: middle;\n",
       "    }\n",
       "\n",
       "    .dataframe tbody tr th {\n",
       "        vertical-align: top;\n",
       "    }\n",
       "\n",
       "    .dataframe thead th {\n",
       "        text-align: right;\n",
       "    }\n",
       "</style>\n",
       "<table border=\"1\" class=\"dataframe\">\n",
       "  <thead>\n",
       "    <tr style=\"text-align: right;\">\n",
       "      <th></th>\n",
       "      <th>title</th>\n",
       "      <th>url</th>\n",
       "      <th>rank</th>\n",
       "    </tr>\n",
       "  </thead>\n",
       "  <tbody>\n",
       "    <tr>\n",
       "      <th>9742</th>\n",
       "      <td>مرکز پژوهش‌های مجلس: مذاکرات وین به توافقی زود...</td>\n",
       "      <td>https://www.farsnews.ir/news/14000924000773/مر...</td>\n",
       "      <td>38</td>\n",
       "    </tr>\n",
       "    <tr>\n",
       "      <th>6929</th>\n",
       "      <td>توضیحات یک منبع آگاه درباره وقفه مذاکرات وین</td>\n",
       "      <td>https://www.farsnews.ir/news/14001222000450/تو...</td>\n",
       "      <td>31</td>\n",
       "    </tr>\n",
       "    <tr>\n",
       "      <th>8707</th>\n",
       "      <td>نباید مانند دولت گذشته در مذاکرات افراط کرد/ «...</td>\n",
       "      <td>https://www.farsnews.ir/news/14001024000193/نب...</td>\n",
       "      <td>22</td>\n",
       "    </tr>\n",
       "    <tr>\n",
       "      <th>11864</th>\n",
       "      <td>اهرم‌سازی از افغانستان در برجام/ نقطه عزیمت آم...</td>\n",
       "      <td>https://www.farsnews.ir/news/14000803000676/اه...</td>\n",
       "      <td>21</td>\n",
       "    </tr>\n",
       "    <tr>\n",
       "      <th>7731</th>\n",
       "      <td>نشست بررسی روند مذاکرات| آمریکا استاد دور زدن‌...</td>\n",
       "      <td>https://www.farsnews.ir/news/14001123000508/نش...</td>\n",
       "      <td>17</td>\n",
       "    </tr>\n",
       "  </tbody>\n",
       "</table>\n",
       "</div>"
      ],
      "text/plain": [
       "                                                   title  \\\n",
       "9742   مرکز پژوهش‌های مجلس: مذاکرات وین به توافقی زود...   \n",
       "6929        توضیحات یک منبع آگاه درباره وقفه مذاکرات وین   \n",
       "8707   نباید مانند دولت گذشته در مذاکرات افراط کرد/ «...   \n",
       "11864  اهرم‌سازی از افغانستان در برجام/ نقطه عزیمت آم...   \n",
       "7731   نشست بررسی روند مذاکرات| آمریکا استاد دور زدن‌...   \n",
       "\n",
       "                                                     url  rank  \n",
       "9742   https://www.farsnews.ir/news/14000924000773/مر...    38  \n",
       "6929   https://www.farsnews.ir/news/14001222000450/تو...    31  \n",
       "8707   https://www.farsnews.ir/news/14001024000193/نب...    22  \n",
       "11864  https://www.farsnews.ir/news/14000803000676/اه...    21  \n",
       "7731   https://www.farsnews.ir/news/14001123000508/نش...    17  "
      ]
     },
     "execution_count": 25,
     "metadata": {},
     "output_type": "execute_result"
    }
   ],
   "source": [
    "query = 'تحریم های آمریکا علیه ایران'\n",
    "index.query(query).head(5)"
   ]
  },
  {
   "cell_type": "code",
   "execution_count": 26,
   "id": "b3dac094",
   "metadata": {},
   "outputs": [
    {
     "name": "stdout",
     "output_type": "stream",
     "text": [
      "به گزارش خبرگزاری فارس، مرکز پژوهش‌های مجلس شورای اسلامی در گزارشی با عنوان «مذاکرات وین: تقابل اراده‌ها و جنگ روایت‌ها» به موضوع مذاکرات اخیر ایران با 1+4 پرداخت .\n",
      "  در بخش چکیده این گزارش آمده است: انگیزه اصلی جمهوری اسلامی ایران برای ورود به مذاکرات وین، تحقق هدف مندرج در بند «29» برجام یعنی «عادی‌سازی روابط اقتصادی و تجاری» بود .\n",
      " با این‌حال، نتایج 6 دور اول گفتگوهای وین به‌دلیل عدم اراده آمریکا برای لغو مؤثر همه تحریم‌ها و ارائه تضمین به‌لحاظ اقتصادی، منافع ملی جمهوری اسلامی ایران را تأمین نمی‌کرد .\n",
      "  به‌دلیل عدم انتفاع اقتصادی، تجدیدنظر درباره پیش‌نویس 6 دور قبلی مذاکرات یک ضرورت برای جمهوری اسلامی ایران محسوب می‌شد، ولی آمریکا ـ حتی پیش از تدوین متن جدید در تهران ـ با ایجاد کمپین روانی خواسته ایران را «زیاده‌خواهانه و فرابرجامی» معرفی کرد .\n",
      " درحالی که، طبق برجام و قطعنامه 2231، آمریکا علاوه‌بر رفع تحریم‌های مقرر در ضمیمه 2 برجام باید از اتخاذ اقداماتی که مانع از عادی‌سازی روابط اقتصادی و تجاری با ایران می‌شود، خودداری نماید .\n",
      " آمریکا برای تغییر محاسبه جمهوری اسلامی ایران و وادار ساختن آن به عقب‌نشینی از خواسته لغو تحریم‌ها و ارائه تضمین، به‌صورت همزمان تلاش دارد تا از تاکتیک دیپلماسی برای «مقصرسازی» ایران، از اعمال تحریم جدید و ابراز آمادگی در جهت اجرای سخت‌گیرانه‌تر تحریم برای «مأیوس کردن» ایران و درنهایت از تهدید به حمله نظامی برای «ایجاد هراس» از پیشرفت برنامه هسته‌ای استفاده کند .\n",
      " چالش اصلی رویکرد «فشار هوشمند» دولت بایدن و تهدید به اجرای برنامه جایگزین (Plan B) این است که افزایش فشار به ایران ـ همانند آنچه بعد از ترور شهید فخری‌زاده یا اقدام خرابکارانه اخیر در نطنز رخ داد ـ می‌تواند نتایج معکوسی داشته باشد و بیش از آنکه ایران را وادار به عقب‌نشینی نماید، به واکنش تقابلی آن و تحمیل هزینه به طرف مقابل منجر شود .\n",
      " اگرچه تاکنون در وین توافقی حاصل نشده، ولی الگوی رفتاری جمهوری اسلامی ایران منجر به شکل‌گیری این درک شده است که اعمال فشار علیه ایران بدون هزینه و پاسخ نخواهد بود .\n",
      " ایجاد چنین نگرشی را می‌توان مهم‌ترین دستاورد جمهوری اسلامی ایران در خلال گفتگوهای وین دانست که منجر به تقویت توان بازدارندگی ایران شده است .\n",
      " رویکرد ایران در مذاکره باید برمبنای مفهوم «انتفاع ملموس» و عادی‌سازی روابط اقتصادی و تجاری باشد .\n",
      " نگرش صرفاً حقوقی به ‌مقوله رفع تحریم و درخواست لغو برخی از دستورات اجرایی، توقف اجرای قوانین کنگره و تغییر در برخی از دستور‌العمل‌های اوفک که در دوره زمانی ریاست‌جمهوری ترامپ علیه ایران اعمال شده است لزوماً منجر به انتفاع اقتصادی از توافق و استمرار مزایای ایران در بلندمدت نمی‌شود .\n",
      " همچنین در بخش مقدمه این گزارش هم آمده است: با گذشت نزدیک به یک سال از روی‌کار آمدن دولت بایدن، آمریکا به برجام بازنگشته و از رفع مؤثر تحریم‌‌ها خودداری می‌‌ورزد .\n",
      " ایده اصلی دولت بایدن این بود که با اعمال «فشار هوشمند» یا همان «ترکیب دیپلماسی و چندجانبه‌گرایی با کمپین فشار حداکثری» ایران را وادار به پذیرش «توافق قوی‌تر و طولانی‌تر» کند .\n",
      "  به همین دلیل، دولت بایدن بیش از آنکه به‌دنبال بازگشت فوری به برجام باشد در پی طراحی سازوکاری بود که چگونه می‌‌توان توافق هسته‌ای را به بستری برای دستیابی به تبدیل توافقی جامع برای مهار ایران کرد .\n",
      " تیم مذاکره‌کننده آمریکا با چنین هدفی در فروردین‌ماه 1400 وارد مذاکرات وین شد و پیش‌نویسی را برای گفتگو درباره دو موضوع اصلی مذاکره یعنی «تحریم» و « برنامه هسته‌‌ای» ارائه کرد که طبق آن از یکسو آمریکا با حفظ بخش مهمی از تحریم‌‌ها به‌دنبال استمرار اهرم فشار علیه ایران و ازسوی دیگر به بهانه «آستانه گریز یک‌ساله» خواستار محدودیت‌‌های فنی و نظارتی فرابرجامی ازجمله تخریب سانتریفیوژهای نسل جدید و زنجیره ساخت این ماشین‌‌ها بود .\n",
      " ارزیابی دبیرخانه شورای‌عالی امنیت ملی در قالب کمیته تطبیق برجام از متن حاصل از 6 دور پیشین وین نیز این بود که این متن انطباق کاملی با سیاست حرف قطعی و قانون اقدام راهبردی برای لغو تحریم‌‌ها نداشته و منافع جمهوری اسلامی ایران را تأمین نمی‌‌کند .\n",
      "  ازاین‌رو، ضرورت دارد تا ضمن بازبینی روندهای گذشته، برای تأمین منافع ملی و اطمینان از رفع مؤثر تحریم‌‌ها اصلاحاتی در متن پیش‌نویس 6 دور قبلی انجام شود .\n",
      " با آغاز دور جدید گفتگوها در وین باید این موضوع به‌دقت مورد واکاوی قرار گیرد که آمریکا چه رویکردی در پیش گرفته است و ایران باید به‌دنبال چه هدفی باشد .\n",
      "  رویکرد آمریکا در قبال گفتگوهای وین؛ تلاش برای تغییر محاسبات ایران ایجاد وقفه در مذاکرات وین، آمریکا را به این جمع‌‌بندی رساند که جمهوری اسلامی ایران از نتایج وین راضی نیست .\n",
      " با این‌حال، از نگاه دولت بایدن این ابهام وجود دارد که جمهوری اسلامی ایران به‌دنبال دستیابی به چه هدفی در گفتگوهای وین است .\n",
      " در پاسخ به این سؤال، سه فرضیه در آمریکا در تحلیل رویکرد احتمالی ایران در قبال مذاکرات شکل گرفت: اول، دولت جدید در ایران به‌دلیل ملاحظات سیاسی و ایجاد تمایز با دولت قبلی به‌دنبال دستیابی به توافقی است که اندکی بهتر از نتایج به‌دست آمده در 6 دور قبلی وین باشد .\n",
      " دوم، ایران در پی مذاکره مجددِ پیش‌‌نویس دورهای قبلی مذاکرات وین و طرح درخواست‌‌های حداکثری و فرابرجامی است .\n",
      " زیرا، ایران از یکسو به‌دلیل بهبود وضعیت فروش نفت و دسترسی به پول‌‌های بلوکه شده و پیشرفت‌‌های فنی در برنامه هسته‌‌ای گذر زمان را به سود خود می‌‌داند و ازسوی دیگر این نگرش درباره ابزارهای فشار آمریکا وجود دارد که دولت بایدن نه اراده استفاده از گزینه نظامی را دارد و نه اعمال تحریمِ اثرگذار در کوتاه‌مدت امکانپذیر است .\n",
      "  سوم، نارضایتی از عدم رفع تحریم‌‌ها و تجربه خروج ترامپ از برجام ایران را به این نتیجه رسانده است که به‌دنبال عبور از برجام و دستیابی به توافقی جدید باشد .\n",
      "  آمریکا برمبنای رویکرد «فشار هوشمند» در مواجهه با وضعیت جدید از طرفی با اعلام آمادگی برای انجام «مصالحه محدود درباره متن 6 دور قبلی» یا «مذاکره درباره توافقی متفاوت از برجام» (در قالب توافق موقت (کمتر در برابر کمتر) و توافق جامع (بیشتر در برابر بیشتر)) تلاش کرد تا بستر مذاکره و توافق را حفظ کرده و خود را حامی راه‌‌حل دپیلماتیک معرفی کند  و از طرف دیگر قصد دارد با تهدید به اجرای برنامه جایگزین (Plan B) ایران را تحت فشار قرار دهد .\n",
      "  مقصود آمریکا از برنامه جایگزین، افزایش فشار سیاسی، اقتصادی و تهدید نظامی علیه ایران است .\n",
      " از منظر سیاسی، آمریکا در پی استفاده از تاکتیک «مقصرسازی» برای همراه ساختن چین و روسیه و ایجاد اجماع علیه ایران است .\n",
      " آمریکا در اجرای این تاکتیک تلاش می‌‌کند روایتی از رفتار ایران ارائه دهد که در ظاهر در تضاد با اراده سیاسی ایران برای پایبندی به توافق هسته‌‌ای و ناسازگار با ادعای آن مبنی‌بر جدیت در مذاکره باشد .\n",
      " برای مثال، آمریکا در موضعی غیرمنطقی، درخواست ایران برای رفع مؤثر تحریم‌‌ها را اقدامی «فرابرجامی و زیاده‌خواهانه» معرفی و پیشرفت برنامه هسته‌‌ای را به‌منزله افزایش ریسک اشاعه‌‌ای تفسیر می‌‌کند .\n",
      " درحالی که نه‌ تنها خواسته ایران برای لغو تحریم‌‌ها طبق بند «29» برجام یعنی تعهد دیگر اعضای توافق به «عادی‌سازی روابط اقتصادی و تجاری» ایران است، بلکه همواره در گزارش‌‌های آژانس بین‌المللی انرژی اتمی این موضوع تأکید می‌‌شود که هیچ انحرافی در برنامه هسته‌‌ای ایران به سمت اهداف غیرصلح‌آمیز رخ نداده است .\n",
      " با وجود این، برخلاف واقعیت، آمریکا با ارائه روایتی نادرست از نیات و اهداف برنامه هسته‌‌ای ایران تلاش می‌‌کند پیشرفت‌‌های حاصل از قانون اقدام راهبردی برای لغو تحریم‌‌ها را ـ که یکی از مهم‌ترین نقاط قوت تیم مذاکره‌کننده ایران است ـ از طریق فضاسازی رسانه‌‌ای تبدیل به نقطه ضعف و بهانه‌‌ای برای ایجاد اجماع بین‌المللی علیه ایران نماید .\n",
      " از منظر اقتصادی، آمریکا برای اعمال فشار بیشتر به ایران به‌دنبال اجرای سخت‌‌گیرانه‌‌تر تحریم‌‌ها و کاهش منابع درآمدی آن است .\n",
      "  در همین راستا، دولت بایدن به‌دنبال اعزام تیمی از وزارت خزانه‌داری آمریکا به شرکای اصلی تجاری ایران ازجمله امارات، چین، ترکیه و مالزی است تا به شرکت‌‌ها و بانک‌‌های این کشورها هشدار بدهد که در صورت استمرار روابط بانکی و تجاری با ایران و کمک به آن در دور زدن تحریم‌‌ها در معرض ریسک‌‌ مالی قابل‌توجهی قرار خواهند گرفت .\n",
      "  علاوه‌بر این، آمریکا ضمن استمرار تحریم افراد و نهادهای ایرانی به‌دنبال آن است تا در صورت ضرورت، همکاری اروپا برای اعمال فشار اقتصادی چندجانبه علیه ایران را ـ از وضع تحریم‌‌های جدید گرفته تا فعال‌سازی مکانیسم ماشه ـ فراهم آورد .\n",
      "  از منظر نظامی، آمریکا و رژیم صهیونیستی از تهدید به حمله نظامی در صورت شکست مذاکرات استفاده می‌‌کند .\n",
      " با این‌حال، تهدید به استفاده از گزینه نظامی علیه تأسیسات هسته‌‌ای یک عملیات روانی برای جلوگیری از واکنش ایران به فشارهای سیاسی و اقتصادی آمریکاست .\n",
      " به همین دلیل، تلاش می‌‌شود تا با موضع‌گیری مقامات ارشد نظامی آمریکا، برگزاری رزمایش هوایی و افزایش رفت‌‌و‌‌آمد هواپیماهای نظامی به منطقه غرب آسیا، جمهوری اسلامی ایران تهدید نظامی را معتبر تلقی کند .\n",
      "  هدف از اعمال فشار اقتصادی و سیاسی به ایران و تکرار موضوع برنامه جایگزین (Plan B) توسط آمریکا ایجاد تغییر در محاسبات ایران است .\n",
      " به‌عبارت دیگر، رویکرد دولت بایدن آن است که از طریق تشدید فشار، نخبگان و افکار عمومی را به این جمع‌بندی برساند که اولاً گذشت زمان به سود ایران نیست و امکان حفظ ثبات اقتصادی در بلندمدت وجود ندارد .\n",
      " ثانیاً آمریکا تحت فشارِ رشد برنامه هسته‌‌ای عقب‌نشینی نخواهد کرد و ایران نمی‌‌تواند به توافقی بهتر دست یابد .\n",
      " ثالثاً ایران در صورت ادامه این مسیر متحمل هزینه خواهد شد .\n",
      " از‌این‌رو، هدفگذاری نهایی کمپین فشار روانی آمریکا وادار ساختن ایران به کاهش سرعت پیشرفت برنامه هسته‌‌ای، عقب‌نشینی از تجدیدنظر درباره پیش‌نویس توافق وین و طرح مطالبه «لغو همه تحریم‌‌ها» و پذیرش یک توافق فوری در قالب برجام یا توافق موقت است .\n",
      " چالش اصلی رویکرد دولت بایدن و تهدید به اجرای برنامه جایگزین این است که افزایش فشار به ایران ـ همانند آنچه بعد از ترور شهید فخری‌زاده یا اقدام خرابکارانه اخیر در نطنز رخ داد ـ می‌‌تواند نتایج معکوسی داشته باشد و بیش از آنکه ایران را وادار به عقب‌نشینی نماید، به واکنش تقابلی آن و تشدید تنش منجر شود .\n",
      " برخلاف اقدامات اقتصادی آمریکا که نیاز به زمان طولانی برای اثرگذاری دارد، جمهوری اسلامی ایران طیفی از گزینه‌های فنی و نظارتی فوری ازجمله توقف کامل نظارت‌‌های فراپادمانی (به‌ویژه در ارتباط با توقف ضبط دوربین‌های نظارتی آژانس در سایت‌های هسته‌‌ای)، راه‌اندازی کارخانه اورانیم فلزی، افزایش سطح غنی‌سازی به 90 درصد و افزایش سرعت ساخت و نصب ماشین‌های نسل جدید را در اختیار دارد که می‌‌تواند آمریکا را تحت فشار قرار دهد .\n",
      " در حوزه اقدامات سیاسی و رسانه‌ای نیز اگرچه آمریکا و برخی از کشورهای اروپایی تهدید به بازگشت به دوره زمانی سال‌‌های 2005 و 2006 و ارجاع پرونده ایران به شورای امنیت سازمان ملل می‌کنند، ولی شرایط امروز با یک دهه گذشته متفاوت است؛ به‌دلیل تنش در روابط آمریکا با چین و روسیه احتمال صدور قطعنامه علیه ایران کمتر است؛ حتی در صورت بازگشت قعطنامه‌‌های شورای امنیت سازمان ملل وضعیت اقتصادی ایران تغییر محسوسی نخواهد کرد .\n",
      " زیرا، تجربه اجرای تحریم‌‌ها در دوره قطعنامه‌‌های سازمان ملل و دوره کمپین فشار حداکثری نشان می‌‌دهد اثرگذاری تحریم‌‌های شورای امنیت کمتر از تحریم‌‌های یک‌جانبه آمریکاست و درنهایت، برنامه هسته‌‌ای ایران پیشرفت چشمگیری نسبت به سال 2006 پیدا کرده است .\n",
      " بنابراین، درصورت تشدید تنش اگر معادله دیروز «تحریم در برابر سانتریفیوژ»  بود،  معادله امروز «تحریم در برابر ظرفیت غنی‌سازی (سو)» است .\n",
      " به‌عبارت دیگر، به‌دلیل دستاوردهای دانشی جدید در عرصه هسته‌ای، جمهوری اسلامی ایران می‌تواند در زمان کمتر و با تعداد ماشین‌های محدودتر، ظرفیت غنی‌سازی بیشتری نسبت به دوره قبل از برجام داشته باشد .\n",
      " رویکرد ایران در قبال گفتگوهای وین؛ دیپلماسی مقتدرانه برای تضمین انتفاع اقتصادی توافق یا عدم توافق محل چالش نیست، بلکه مسئله این است که جمهوری اسلامی ایران برای دستیابی به پیشرفت چه نیازها و اهدافی دارد .\n",
      " پاسخ به این سؤال مشخص می‌‌کند که جمهوری اسلامی ایران با چه رویکردی در میز مذاکره حاضر شود و دنبال کسب چه خواسته‌‌هایی باشد و در فضایی خارج از گفتگوهای وین در پی تلاش برای تحقق کدام راه‌‌‌حل‌‌ها برای خنثی‌سازی تحریم و قرارگیری در ریل پیشرفت اقتصادی باشد .\n",
      " با توجه به تجربه دوره اجرای برجام و خروج آمریکا از آن، نه دستیابی به توافق به‌معنای توسعه اقتصادی است نه عدم توافق به‌معنای فروپاشی اقتصادی .\n",
      " گذشت زمان نیز به‌معنای استمرار وضع موجود یا بدتر شدن وضعیت اقتصادی نیست، بلکه مذاکره باید در یک مسیر موازی و همزمان با تلاش برای خنثی‌سازی تحریم پیگیری شود .\n",
      " توافق وین در صورت اجرا نه‌تنها به عادی‌سازی روابط اقتصادی و تجاری ایران منجر نمی‌‌شد، بلکه به‌دلیل حفظ بیش از یک‌سوم تحریم‌‌ها و ریسک بالای خروج مجدد آمریکا از توافق منافعی کمتر از توافق برجام در سال 2015 برای ایران در پی داشت .\n",
      " آنچه در 6 دور قبلی به‌دست آمده بود، نگرانی شرکت‌‌ها و بانک‌‌های متوسط و بزرگ بین‌المللی برای برقراری روابط مالی و تجاری با ایران و حتی سرمایه‌گذاری میان‌مدت را رفع نمی‌‌کرد .\n",
      " توافق برای ایران زمانی ارزش دارد که نتایج قابل‌توجه و ملموس اقتصادی داشته باشد .\n",
      " در غیر این‌صورت، عقب‌نشینی از برنامه هسته‌‌ای صرفاً ایران را در موضع ضعف و فشار بیشتر قرار می‌‌دهد .\n",
      " رویکرد ایران در مذاکره باید برمبنای مفهوم «انتفاع ملموس» و عادی‌سازی روابط اقتصادی و تجاری باشد .\n",
      " نگرش صرفاً حقوقی به‌مقوله رفع تحریم و درخواست لغو برخی از دستورات اجرایی، توقف اجرای قوانین کنگره و تغییر در برخی از دستور‌العمل‌‌های اوفک که در دوره زمانی ریاست‌جمهوری ترامپ علیه ایران اعمال شده است، لزوماً به انتفاع اقتصادی از توافق و استمرار مزایای ایران در بلندمدت منجر نمی‌‌شود .\n",
      " تا زمانی که ما‌به‌ازای ملموس، سنجه‌‌پذیر و قابل راستی‌آزمایی برای عملیات رفع تحریم‌‌ها تعریف نشود نمی‌‌توان از آثار اقتصادی و مالی آن اطمینان داشت .\n",
      " فلسفه اصلی برجام برای ایران این بود که تحریم‌‌های اقتصادی لغو و فعالیت‌‌های تجاری و مالی ایران عادی شود .\n",
      "  با این‌حال، بدعهدی طرف‌های مقابل در اجرای تعهدات خود در زمینه تحریم‌ها رفع و تجربه خروج از توافق هسته‌‌ای در دوره ترامپ، آورده و بهره اقتصادی برجام برای ایران را با مانع مواجه کرد .\n",
      " به این ترتیب به صرف بازگشت آمریکا به برجام نه‌تنها «ریسک همکاری» با ایران از بین نمی‌‌رود، بلکه «امکان همکاری» مالی و تجاری رسمی با ایران نیز به‌دلیل حفظ بخشی از تحریم‌‌ها ازجمله تحریم یوترن (U-TURN) میسر نمی‌شود .\n",
      " از‌این‌رو، «لغو مؤثر تحریم‌‌ها» و «دریافت تضمین» نه‌تنها زیاده‌خواهانه نیست، بلکه شرط واقع‌بینانه، منطبق بر تجربه سالیان اخیر و حداقلی ایران به‌منظور انتفاع اقتصادی از برجام است .\n",
      " با این‌حال، باید توجه داشت که حتی در صورت تحقق چنین هدفی در مذاکرات، رفع تحریم‌‌ها شرط کافی برای پیشرفت اقتصادی کشور نیست .\n",
      " جمع‌بندی با توجه به سابقه آمریکا در نقض تعهدات خود در قبال برجام و تلاش این کشور برای انعقاد توافقی یک‌طرفه و ناقص، نتیجه این مذاکرات به یک توافق زودهنگام و پایدار منجر نخواهد شد .\n",
      " از طرف دیگر، به‌دلیل آنکه آمریکا جایگزین مناسبی برای برجام ندارد، عدم دستیابی به توافق در میان‌مدت نیز به‌معنای فروپاشی برجام نخواهد بود .\n",
      " آمریکا در پی آن است تا از طریق تهدید به تشدید فشار اقتصادی، سیاسی و نظامی جمهوری اسلامی ایران را وادار به تغییر محاسبه و تجدیدنظر درباره «رفع مؤثر تحریم‌‌ها» کند و با استفاده از ابزار دیپلماسی، ایران را مقصر و مانع دستیابی به توافق معرفی کند .\n",
      " برای مثال، آمریکا در طول چند ماه گذشته تلاش کرد تا مبدأ زمانی و عامل بن‌بست در گفتگوهای وین را تغییر دهد .\n",
      " درحالی که منشأ این بحران، خروج آمریکا از برجام و عدم اراده دولت بایدن برای رها کردن کمپین فشار حداکثری و رفع تحریم‌‌ها بود، چنین وانمود شد که علت بن‌بست در مذاکره «خواسته‌‌های ایران در مسئله تحریم‌‌هاست» .\n",
      "  اگرچه تاکنون در وین توافقی حاصل نشده، ولی الگوی رفتاری جمهوری اسلامی ایران منجر به شکل‌گیری این درک شده است که اعمال فشار علیه ایران بدون هزینه و پاسخ نخواهد بود .\n",
      " ایجاد چنین نگرشی را می‌‌توان مهم‌ترین دستاورد جمهوری اسلامی ایران در خلال گفتگوهای وین دانست که به تقویت توان بازدارندگی ایران منجر شده است .\n",
      " پیش از این ـ به‌خصوص در دوره ترامپ ـ چنین تصور می‌‌شد که جمهوری اسلامی ایران تحت فشار شدید اقتصادی و تهدید نظامی عقب‌نشینی خواهد کرد .\n",
      " این درک راهبردی از ایران نقش مهمی در خروج آمریکا از برجام داشت .\n",
      " از‌این‌رو، پیش از بازگشت آمریکا به برجام ضرورت داشت تا این نگاه ایجاد شود که ایران در برابر فشار نه‌تنها عقب‌نشینی نخواهد کرد، بلکه واکنش آن می‌‌تواند نتایج معکوسی برای آمریکا و رژیم صهیونیستی در پی داشته باشد .\n",
      " تقویت این درک از ایران یکی از مهم‌ترین پایه‌‌های تأمین امنیت ملی و تضمین توافق احتمالی در وین خواهد بود .\n",
      "به گزارش خبرنگار سیاسی خبرگزاری فارس، به نظر می‌رسد مذاکرات وین به روزهای آخر خود نزدیک شده است و براساس اعلام برخی منابع تا رسیدن به توافق راه زیادی باقی نمانده و تنها نیاز است آمریکا به آنچه در برجام برای برداشتن تحریم‌ها وعده داده  عمل کند و تضمین معتبری هم برای انجام این تعهدات داده شود .\n",
      " براساس اعلام مسئولان سیاست خارجه در کنار دریافت تضمین‌ معتبر، برداشتن همه تحریم‌ها از نکات و مطالبات اصلی ایران در مذاکرات است .\n",
      " اما به نظر می‌رسد آمریکا در مقابل عمل به این تعهد برجامی مقاومت می‌کند .\n",
      " * تحریم‌های آمریکا علیه ایران آمریکا پس از تسخیر لانه‌ جاسوسی آمریکا در تهران، «کارتر» در تاریخ 8 نوامبر 1979م .\n",
      " با استناد به قانون‌ «کنترل صدور تسلیحات نظامی»، کشتی حامل‌ لوازم یدکی نظامی متعلق به ایران را توقیف کرد .\n",
      " با اوج‌گیری کشمکش‌های سیاسی بر سر مسئله‌ تصرف سفارت، دولت موقت، اعلام کرد تمام دارایی‌های‌ خود را از بانک‌های آمریکا خارج خواهد کرد .\n",
      " کارتر با لحاظ این احتمال، در کشور شرایط اضطراری اعلام کرد و با استناد به قانون شرایط اضطراری اقتصاد بین‌الملل (IEEPA) و قانون‌ شرایط اضطراری ملی (NEA)، با صدور دستور ویژه‌ی شماره‌ی (12170)، تمام دارایی‌های ایران در آمریکا را به تصرف خود درآورد .\n",
      "   مجموع پس‌اندازها و اوراق بهادار بلوکه شده‌ی ایران بالغ بر 12 میلیارد دلار بود .\n",
      " حدود 1.4میلیارد دلار در بانک «فدرال رزرو» آمریکا، 5.6میلیارد دلار در شعب مختلف بانک‌های این کشور‌ در خارج از آمریکا، 2 میلیارد دلار در سایر بانک‌های آمریکا و حدود 2 میلیارد دلار در اختیار شهروندان و مؤسسه‌های خصوصی ایالات متحده بود .\n",
      " همچنین 1.6میلیون اونس طلا به حساب بانک‌ مرکزی ایران در بانک «فدرال رزرو» نگاه داشته‌ می‌شد .\n",
      " کارتر با صدور دستور ویژه‌ شماره‌ (12205)، فروش و عرضه‌ هرگونه کالا و خدمات، به‌جز مواد غذایی و دارویی، به ایران را ممنوع کرد .\n",
      "، وارد نمودن هرگونه کالا از ایران‌ نیز ممنوع شد .\n",
      " پس از پایان داستان‌ گروگان‌گیری در روزهای پایانی ریاست‌جمهوری‌ کارتر، وی با صدور 10 دستور ویژه، تمام‌ تحریم‌ها برضد ایران را لغو کرد، اما دولت بعدی‌ (ریگان) در عمل فقط ممنوعیت مربوط به‌ صادرات و واردات را اجرا نمود و به بهانه‌های‌ مختلف، از آزاد کردن اموال ایران طفره رفت .\n",
      " آمریکا از سال 1983م .\n",
      " تحریمی یک جانبه موسوم به عملیات «استانج» را برضد ایران آغاز کرد .\n",
      "   در این راستا ایالات متحده با 20کشور درباره‌ی ارسال نکردن سلاح به ایران وارد مذاکره شد تا آن‌ها را مجاب کند که سلاح به ایران نفروشند .\n",
      " این تحریم در شرایط درگیری ایران در جنگ تحمیلی با هدف حمایت از عراق بعثی در برابر ایران اسلامی بود .\n",
      "    در ادامه‌ تحریم‌های اعمال شده از سوی آمریکا، بار دیگر در سال 1984م .\n",
      " آمریکا صادرات برخی از مواد شیمیایی را به ایران ممنوع کرد .\n",
      " ممنوعیت برخی از مواد شیمیایی بعد از ماجرای ایران-کنترا در سال 1987م .\n",
      " نمایندگان کنگره در واکنش به خریدهای‌ نفت اداره‌ی انرژی آمریکا از ایران، لایحه‌ای به‌ مجلس برده و با تصویب آن واردات نفت از ایران‌ را ممنوع کردند .\n",
      "   ریگان که نمی‌خواست کمتر از کنگره ضدتروریست جلوه کند، 3هفته بعد با صدور دستور ویژه‌ی (12613) ورود هرگونه کالا و خدمات از ایران را ممنوع کرد .\n",
      " در واقع زمانی که ایران درگیر جنگ تحمیلی بود، ایالات متحده به تعریف سیاست‌های تحریمی پرداخت که بتواند بر نتیجه‌ی جنگ ایران و عراق تأثیری شگرف بگذارد و رقیب نوپای اسلامی خود را در جنگی نابرابر از میدان به در کند .\n",
      " اما پایان جنگ، تافته‌ی بافته‌ی آمریکا را ریش ریش کرد .\n",
      " * پایان جنگ، تداوم تحریم با پذیرش قطعنامه‌ی (598) توسط ایران، جنگ تحمیلی، رسمی و فیزیکی برضد جمهوری اسلامی پایان یافت، اما حربه‌ی نرم، جایگزین حربه‌ی سخت جنگ شد .\n",
      " به موازات تحریم‌های قبلی، سیاست اعمال فشار و تحریم برضد ایران تداوم یافت .\n",
      " روابط ایران و آمریکا وارد مرحله‌ی تازه‌ای شد .\n",
      " استراتژی جدید آمریکا درباره‌ی ایران و عراق «سیاست مهاردوگانه» بود .\n",
      "   براساس این سیاست، آمریکا در نخستین گام، محدودیت‌هایی برای خرید نظامی ایران، ممنوعیت کمک و تخصیص اعتبار، کنترل صادرات و واردات، جلوگیری از اعطای وام از سوی بانک جهانی و صندوق بین‌المللی پول و ادامه‌ی توقیف اموال ایران اعمال کرد .\n",
      " کلینتون در اسفند ماه 1373 فرمان اجرایی شماره‌ی (12957) مبنی بر ممنوعیت برخی معاملات مربوط به توسعه‌ی منابع نفتی ایران را امضا نمود .\n",
      "   بدین ترتیب شرکت‌های آمریکایی از سرمایه‌گذاری در بخش نفت و گاز ایران منع شدند .\n",
      " رئیس جمهور آمریکا بار دیگر در اردیبهشت 1374 طی فرمان شماره‌ی (12959) تحریم‌های جدیدی را برضد ایران اعمال کرد .\n",
      " بر این اساس شرکت‌های آمریکایی از خرید نفت از ایران منع شدند .\n",
      " در این دوران آمریکا سیاست‌های ضد ایرانی خود را ادامه داد به گونه‌ای که در مرداد 1375 قانون مجازات‌ها برضد ایران و لیبی در کنگره تصویب شد .\n",
      "   طبق این قانون که به «داماتو» معروف شد، شرکت‌های غیرآمریکایی که در بخش نفت و گاز لیبی و ایران سرمایه‌گذاری کنند، مجازات خواهند شد .\n",
      " بنابراین علاوه بر شرکت‌های آمریکایی، تمامی شرکت‌های خارجی دیگر از سرمایه‌گذاری بیش از 20 میلیون دلار در ایران منع شدند .\n",
      " * 11 سپتامبر، موج جدید تحریمها همچنان در دوره‌های بعدی نیز تحریم‌ها برضد ایران توسط رؤسای جمهور آمریکا تمدید می‌شد .\n",
      " «جورج بوش»، رئیس‌جمهور وقت آمریکا قانونی را تصویب کرد که اجازه‌ی بلوکه‌ی اموال و دارایی‌های اشخاص حقوقی و حقیقی حامی تروریسم را ارائه می‌کرد .\n",
      " چندی بعد شماری از اشخاص حقیقی و حقوقی در ایران نیز در فهرست تحریم‌ها قرار گرفتند .\n",
      " به طوری که برخی بانک‌ها مانند بانک سپه و ملی، مقاطعه‌کاران در صنعت دفاعی و شرکت‌های سپاه پاسداران به همراه مقام‌های سپاه و نیروی قدس در فهرست تحریم‌ها قرار گرفتند .\n",
      " در راستای سیاست‌های آمریکا در ژوئن 2008م .\n",
      " اتحادیه‌ی اروپا دارایی بیش از 40 شخص حقیقی و حقوقی که با بانک ملی ایران همکاری داشتند را مسدود کرد .\n",
      " ژاپن و اتحادیه‌ی اروپا همچنین محدودیت‌هایی را در جهت اعطای وام به ایران اعمال کردند .\n",
      "، «اوباما» تحریم شرکت‌های داخلی و خارجی که به ایران بنزین می‌فروشند یا به ارتقای ظرفیت پالایشگاهی جمهوری اسلامی کمک می‌کنند را تصویب کرد .\n",
      "  * تحریم‌های هسته‌ای پس از 11 سپتامبر و موج جدیدی از تحریم‌ها برضد ایران، ترسیم چهره‌ی «ایران هسته‌ای» در صدر تبلیغات منفی از جمهوری اسلامی قرار گرفت .\n",
      " به دنبال این امر کشورهای غربی در صدد اعمال تحریم‌های گوناگون اقتصادی و تکنولوژیکی برضد ایران برآمدند و با طرح فعالیت‌های هسته‌ای ایران در شورای امنیت به مخاصمه با این کشور پرداختند .\n",
      "، جمهوری اسلامی ایران را کشوری در پی «دستیابی به سلاح‌های کشتار جمعی و بر هم زننده‌ی صلح و ثبات بین‌المللی» معرفی کرد و تمام تلاش خود را جهت ناکامی ایران در اجرای فعالیت‌های هسته‌ای و ارجاع پرونده‌ی ایران به شورای امنیت به کار گرفت .\n",
      " به تصویب اعضای شورای امنیت رسید، در عمل ایران را به فصل7 و ماده‌ی 41 منشور ملل متحد کشاند .\n",
      " این قطعنامه دارایی‌های برخی مؤسسه‌ها و افراد مرتبط با برنامه‌های هسته‌ای ایران در خارج از کشور را مسدود نمود .\n",
      " همچنین در این قطعنامه ذکر شده بود که در صورت بی‌اعتنایی مجدد ایران به قطعنامه‌ی یاد شده و متوقف نشدن فعالیت‌های هسته‌ای در مدت زمان مقرر (60 روزه) از سوی شورای امنیت، تهران با تحریم‌های سخت‌تری مواجه خواهد شد .\n",
      "  اگر چه قطعنامه‌ی یاد شده لحنی تند داشت و ضرب‌الاجلی 2 ماهه برای ایران تعیین کرده بود، با این حال جمهوری اسلامی ایران ضمن رد و غیرعادلانه خواندن قطعنامه و انتقاد از برخورد دوگانه‌ی شورای امنیت، مصرانه بر ادامه‌ی فعالیت‌های صلح‌آمیز خود جهت دستیابی به فن‌آوری هسته‌ای پای فشرد .\n",
      " بدین ترتیب پس از پایان مهلت 2ماهه، شورای امنیت و اعتنا نکردن ایران به قطعنامه‌ی یاد شده، قطعنامه‌ی سوم شورای امنیت پس از حدود یک ماه رایزنی در 24 مارس 2007م .\n",
      "   قطعنامه‌ی (1747) ضمن مسدود نمودن دارائی‌های 28 فرد و نهاد ایرانی مرتبط با برنامه‌های هسته‌ای ایران و جلوگیری از صادرات تسلیحاتی ایران، تحریم‌های تنبیهی جدیدی را نیز برضد تهران وضع کرد و یک بار دیگر از ایران خواست که طی 60 روز آینده فعالیت‌های هسته‌ای خود را به حالت تعلیق درآورد .\n",
      " در تیرماه 1387 چهار گروه صنعتی ایران شامل مجموعه‌ی صنایع شهید ستاری، هفت تیر، گروه صنایع مهمات و متالورژی و صنایع شیمی پارچین مشمول تحریم‌های آمریکا شدند .\n",
      " وزارت خزانه‌داری ایالات متحده در آذر 1389 اعلام کرد که شرکت‌ها و بانک‌های نفت و گاز پارس، بیمه‌ی معلم، بانک مهر، بانک انصار، شرکت کشتیرانی لاینر ترانسپورت کیش و بنیاد تعاون سپاه را به فهرست سیاه تحریمی خود می‌افزاید .\n",
      ")، وزارت خزانه‌داری آمریکا، تحریم‌های جدیدی را برضد بانک رفاه ایران تحمیل کرد .\n",
      "افزون بر این‌ها، قانون تحریم همه ‌جانبه‌ی ایران در سال 1389 به تصویب کنگره‌ی این کشور رسید .\n",
      " این تحریم‌ها رئیس‌جمهور آمریکا را قادر می‌سازد تا شرکت‌های خارجی که به ایران بنزین و دیگر فرآورده‌های نفتی پالایش شده را صادر می‌کنند، مجازات کند .\n",
      " * تحریم‌های اروپا برضد ایران همراهی اروپا با غرب در اعمال فشار بر جمهوری اسلامی در سال‌های اخیر قابل توجه است .\n",
      " به موازات تحریم‌های تعریف شده‌ی آمریکا برضد ایران، اروپا نیز از این دور عقب نمانده است .\n",
      " اعلام کرد که در ادامه‌ی سیاست تحریم برضد ایران، دارایی‌های بزرگ‌ترین بانک ایران، یعنی بانک ملی را ضبط و تحریم می‌کند .\n",
      " بانک «بارکلیز» یکی از بزرگ‌ترین بانک‌های انگلستان، حساب‌های ایرانیان از جمله بانک صادرات و بانک ملی ایران را مسدود کرده است .\n",
      " برخی از دانشگاه‌های هلند، بر طبق بخشنامه‌های وزارتخانه‌های کشوری، از پذیرش دانشجویان ایرانی به دلیل آنچه مسائل مربوط به فن‌آوری هسته‌ای خواندند؛ ممانعت کردند .\n",
      "   همچنین بانک‌های«لامبرت بروکسل» بلژیک و بانک «دویچ» آلمان معاملات ارزی با ایران را در سال 2008م .\n",
      "، سوئیس دارایی‌های 12 شرکت ایرانی را به بهانه‌ی دستورهای تحریمی شورای امنیت سازمان ملل برضد ایران، ضبط و مصادره نمود .\n",
      " اتحادیه‌ی اروپا 180 شرکت تجاری و شخص ایرانی را مشمول تحریم‌های جدید بخش ترابری و انرژی کرد .\n",
      " شرکت‌هایی در این خصوص به فهرست تحریم‌شدگان پرونده‌ی اتمی ایران پیوستند که با شرکت‌های کشتیرانی و سپاه پاسداران انقلاب اسلامی ایران ارتباط دارند .\n",
      " آخرین و جدیدترین تحریم نیز، ممنوعیت خرید نفت ایران است که از اواخر بهار 1391 اعمال شده است .\n",
      " بر این اساس کشورهای اروپایی از خرید نفت ایران ممنوع شدند و دیگر کشورها را نیز برای کاستن از خرید نفت ایران، تحت فشار قرار می‌دهند .\n",
      " بدین ترتیب آمریکا و متحدانش در طول 33 سال گذشته، بارها با انواع تحریم‌ها تلاش کرده‌اند تا جمهوری اسلامی ایران را از دستیابی به اهداف سیاسی خود بازداشته و در راستای اهداف سیاسی خود آن را به راه آورده و به تغییر رابطه با غرب وادارند .\n",
      "  همانطور که گفته شد تحریم به مسائل هسته ای محدود نمی شود و امری باسابقه است و از ابتدای انقلاب وجود داشته است .\n",
      "  بنابراین همان‌طوری که مقام معظم رهبری نیز بارها تأکید فرموده‌اند، وضع تحریم علیه جمهوری اسلامی بیش از آنکه به مسائل هسته‌ای ارتباط پیدا کند، به تخاصم استکبار جهانی با انقلاب اسلامی بازمی‌گردد .\n",
      " حضرت آیت‌الله خامنه ای سرافرازی، روحیه استقلال طلبی، عدم تسلیم ملت ایران و اسلام خواهی را عمده دلیل مخالفت و دشمنی غربی ها با ملت ایران عنوان نمودند .\n",
      " * مقاومت غرب و آمریکا برای عمل به تعهدات خود لغو تحریم‌های ظالمانه آمریکا و غرب علیه ایران، از مطالبات اصلی و مهم مردم و تیم مذاکره کننده در مذاکرات وین است، اما به نظر می‌رسد آمریکا و غرب تلاش دارند بدون لغو این تحریم‌ها به توافق دست یابند .\n",
      "  یک منبع آگاه در باره این موضوع  و همچنین درباره وقفه ایجاد شده در مذاکرات وین به خبرنگار فارس گفت: غرب و امریکا همچنان در مقابل برداشتن همه تحریم‌ها مقاومت می‌کنند و با خواسته ایران در این باره تا این زمان موافقت نکرده اند .\n",
      " وی افزود: طرف مقابل در مذاکرات هسته‌ای درگذشته با برداشتن تعدادی از تحریم ها موافقت کرده، اما برخی از تحریم‌های اصلی همچنان باقی است .\n",
      " ظهره‌وند، غربی‌ها را نیازمند رسیدن به توافق می‌داند و معتقد است، تنها پلی که غرب و آمریکا برای ماندن در منطقه در اختیار دارند برجام است و اگر برجام به نتیجه نرسید این کشورها باید از منطقه خداحافظی کرده و آن را به شکل کامل ترک کنند، اتفاقی که پروژه های سنگین آمریکا در منطقه را با خطر رو به رو می کند .\n",
      "      توافق موقت جان مایه راهبرد طرف غربی و آمریکایی در مذاکرات وین آقای ظهره‌وند همانطور که می‌دانید مذاکرات لغو تحریم ادامه دارد و طرف غربی با وجود ادعای خود در سرعت دادن به مذاکرات و رسیدن به توافق، اقدامی برای تحقق آن انجام نمی‌دهد، چرا تفاوت در گفتار و عمل طرف‌های غربی حاضر در مذاکرات تا این اندازه زیاد است ؟\n",
      " ظهره‌وند: موضوع توافق موقت جان مایه راهبرد طرف غربی و آمریکایی  در مذاکرات وین است .\n",
      " آن‌ها علاقه ندارند که موضوع برجام و مسئله هسته‌‌ای ایران را با نگاه کارشناسی حل و فصل کنند .\n",
      " بهانه‌هایی هم  از جمله در دادن تضمین‌های مورد انتظار ایران دارند تا این روند به شکل طبیعی و کارشناسی شده به سرانجام نرسد .\n",
      " درهر توافقی نیاز به ارایه تضمین برای عمل به توافق از سوی مذاکره کنندگان وجود دارد اما، آمریکایی‌ها برای ندادن تضمین در مذاکرات لغو تحریم‌ها، انتخابات سال آینده آمریکا را بهانه می‌کنند .\n",
      " واقعیت این است که آمریکایی‌ها و طرف‌های غربی موضوع برجام را یک پروژه و نه یک توافق سیاسی می‌بینند و حاضر نیستند به عنوان نقطه حل و فصل شده مسئله‌شان با ایران بپذیرند .\n",
      " می‌خواهند قدرت دفاعی و حضور منطقه‌ای ایران را محدود کنند یعنی معتقد هستید در مذاکرات وین، غربی‌ها دنبال موضوعی جز لغو تحریم‌ها هستند ؟\n",
      " ظهره‌وند: طرف‌های غربی مذاکرات برجام به دنبال اهداف دیگری جز لغو تحریم‌ها هستند .\n",
      " یعنی  دنبال آن هستند که هم ظرفیت هسته‌ای ما را ساقط کنند و هم دستیابی به سایر ظرفیت‌های ملی ما که بقا و دورنمای توسعه و رشد ایران را در خود دارد دنبال می‌کنند .\n",
      " علاوه بر این، آن‌ها می‌کوشند در این فرایند، هم قدرت دفاعی و هم حضور و توسعه منطقه‌ای ما را با هدف مهار و کنترل قدرت ایران هدف قرار دهند تا نهایتا تسلیم‌سازی ایران در برجام اتفاق بیفتد .\n",
      " برای همین است که توافق موقت جان مایه خواسته‌های طرف غربی و اراده او برای احیای برجام و خصوصا فراهم کردم زمینه‌ای برای بازگرداندن ایران به موقعیت 8 سال قبل خود و جدا کردن پیشرفت های ایران و بازگشت ایالات متحده به داخل برجام است .\n",
      " مکانیسم ماشه با بازگشت آمریکا به برجام فعال می‌شود چرا غربی‌‌ها اصرار دارند که آمریکایی‌ها به برجام بازگردد ؟\n",
      " ظهره وند: عملی شدن مکانیسم ماشه تنها در صورت بازگشت آمریکایی‌ها به برجام قابل انجام است .\n",
      " یک سر توافق تامین مطالبات ایران و در مقابل آن، بازگشت آمریکا به برجام است .\n",
      " پذیرش این وضعیت یعنی دور جدیدی از تداوم فشارها و مشروعیت یافتن تحریم‌ها و اینکه ایران باید در چنین زمینی بازی را ادامه دهد تا غربی‌ها بتوانند برجام یک، دو، سه و چهار را دنبال کنند .\n",
      " ترامپ امنیت ملی آمریکا را با با خروج از برجام به خطر انداخت به نظر می‌رسد طرف‌های غربی عجله زیادی برای رسیدن به توافق با ایران دارند .\n",
      " ظهره وند: ترامپ ضربه اساسی را به استراتژی آمریکا در برجام زد .\n",
      " برای همین است که شاهد هستیم سخنگوی وزارت امور خارجه آمریکا ترامپ را به دلیل خروج از برجام محکوم می کند .\n",
      "      یکی به این دلیل که ترامپ منافع امنیت ملی آمریکا را با بر هم زدن استراتژی این کشور در برجام به خطر انداخته است و دوم اینکه ، به موقعیت جمهوریخواهان در رقابت های انتخاباتی سال 2022  ضربه وارد کند .\n",
      " براساس نظرسنجی‌هایی که در آمریکا انجام شده است، میزان محبوبیت بایدن به 30 درصد کاهش یافته است و این موضوع دورنمای موفقیت دموکرات‌ها را در انتخابات آینده آمریکا تضعیف می‌کند و این نوید را به بخشی از آمریکایی‌ها می‌دهد که دوران ترامپیسم در حال احیا شدن درآمریکا است .\n",
      " وقوع چنین اتفاقی در ایالات متحده، منجر به دو قطبی شدن آمریکا و در نهایت فروپاشی آن خواهد شد .\n",
      " غربی‌ها مدعی هستند ایران بیشتر از غرب به توافق نیاز دارد .\n",
      " آیا این ایران است که به توافق نیاز دارد یا غربی‌ها ؟\n",
      " ظهره وند: تحریم‌ها باید برای ما به شکل فرصت دیده شود .\n",
      " اگر قرار است حل و فصل مسائل خود را از طریق آمریکایی‌ها دنبال کنیم، فرجامی برای ما ندارد .\n",
      " غربی‌ها هم از این فرصت استفاده کرده و دارند همین خط را دنبال می‌کنند و مدعی هستند اگر ایران می‌خواهد مشکلات اقتصادی و داخلی خود را برطرف کند باید تن به خواسته‌های آنان بدهد .\n",
      " خروجی توافق مهم است و اینکه چه چیزی در توافق به ما می‌رسد تیم مذاکره کننده هسته‌ای اعلام کرده بود که با هدف لغو همه تحریم‌ها به وین می‌رود .\n",
      " به نظر شما چنین توافقی می تواند منافع ایران را تأمین کند ؟\n",
      " ایرادی ندارد که بگوییم همه تحریم‌ها باید لغو شود اما، واقعیت این است که همه تحریم‌ها لغو نمی‌شود .\n",
      "      حتی اگر لغو موقت هم نتیجه نهایی مذاکرات باشد، لغو همه تحریم‌ها شدنی نیست .\n",
      " حتی در برجام نیز لغو همه تحریم‌ها انجام نشد .\n",
      " تحریم‌‌هایی که آمریکا بر علیه ایران وضع کرده است، یک مجموعه درهم تنیده و مهندسی شده است که حتی در دوره بایدن نیز آن را رشد داده و به هم مرتبط کرده‌اند .\n",
      " تحریم‌ها مانند ساختمان است و اگر ستون این ساختمان را مسایل هسته‌ای بدانیم، سایر تحریم‌های آمریکا در حوزه‌های گوناگون فروخواهد ریخت .\n",
      " آمریکایی‌ها، تمام بضاعت و سرمایه خود را در وزارت خزانه‌داری خود تعریف کرده‌اند .\n",
      " لغو همه تحریم‌ها از سوی آمریکایی‌ها پذیرفته نمی شود .\n",
      " مشاهده می‌کنیم که آمریکایی‌ها برای فشار وارد کردن به ما از فشار جمهوریخواهان در کنگره استفاده کردند و گفتند که 100 نماینده اعلام کردند که باید از توافق بیرون برود .\n",
      " مسایل سیاست خارجی یک کل در هم تنیده برخی معتقدند که آمریکایی‌ها فراتر از برجام، اهداف دیگری را در منطقه دنبال می کنند و راه ورود آمریکا به منطقه از برجام می گذرد .\n",
      " ظهره‌وند: آمریکایی‌ها نیاز به برجام، خرید زمان و نیز استفاده از مذاکرات هسته‌ای برای رسیدن به مذاکرات جامع دارند تا از طریق ادامه این مذاکرات به شورش های منطقه ای برسند .\n",
      "  اروپایی‌ها مدام از آخرین فرصت ایران برای رسیدن به توافق سخن می‌گویند .\n",
      " کشورهای اروپایی نشان دادند تنها نقشی که در برجام ایفا می‌کنند نقش دورچین و تسهیل‌کننده منافع آمریکا است .\n",
      " منافع اروپایی‌ها ذیل منافع آمریکا تعریف می‌شود      منافع اروپایی‌ها ذیل منافع آمریکا تعریف می‌شود و آنان از خود اراده‌ای ندارند .\n",
      " تا آمریکایی‌ها برجام و توافقات خود را نپذیرند و به آن عمل نکنند، اتفاقی رخ نمی‌دهد .\n",
      " آنچه الان می‌گوییم تحریم، تحریم‌های در واقع غیرقانونی و نه ظالمانه است .\n",
      "چرا می‌گوییم تحریم‌های غیرقانونی؛ چون آمریکایی‌ها ازطریق تحریم‌های ثانویه دارند ایران را تحریم می‌کنند .\n",
      "  آمریکایی‌ها در این قالب، قوانین داخلی خود را به قوانین بین‌الملل تحمیل می‌کنند و اگر کسی بخواهد با ما وارد معامله شود تحت تاثیر قوانین داخلی آمریکا قرار می‌گیرد و تحریم می‌شود که این رویه و اقدام غیرقانونی است .\n",
      " ازسوی دیگر، این آمریکایی‌ها و اروپایی‌ها هستند که همه عرصه های بازی را در منطقه واگذار کرده اند و الان تنها پلی که برای بازگشت به زمین بازی دارند، پل فعالیت‌های هسته‌ای ایران و برجام است و کاپیتان این بازی هم آمریکا است .\n",
      " اما عملا افکار عمومی در جهان نگاه دیگری به موضوع برجام دارد و تصور می‌کند ایران است که از برجام خارج شده است .\n",
      " به این دلیل، این غربی‌ها هستند که تلاش دارند ایران را منفعل نگه دارند تا در سایه انفعال ایران پروژه‌های سرمایه گذاری شده خودشان را به ثمر برسانند .\n",
      " پروژه هایی که در افغانستان، عراق، قزاقستان و به ویژه ایران دنبال می‌کنند نیاز به زمان برای به ثمر رسیدن دارد .\n",
      " غرب و اروپا به توافق نیاز دارند اما نمی خواهند امتیازی در برجام به ایران بدهند  این غرب و اروپا است که نیاز به برجام و حفظ آن دارد اما نمی‌خواهد چیزی در راه رسیدن به توافق برجام به ایران بدهد .\n",
      " آنان نگرانند که اگر نتوانستند پلی در منطقه برای بازگشت خود ایجاد کنند، آب هم به گلوی ایران نریخته باشند .\n",
      " غربی‌ها به این باور رسیده‌اند که ایران بر اثر تحریم‌ها قوی تر شده است و اگر امکانات هم در راستای توافق برجام به ایران بدهند، این قدرت دو چندان خواهد شد .\n",
      " اخیرا شاهد هستیم کره جنوبی اعلام کرده است دنبال آزادسازی پول‌های ایران در این کشور است .\n",
      " ظهره‌وند: این سیاست چماق و هویجی است که آمریکایی‌ها آن را بارها اعمال کرده‌اند .\n",
      " به نظر می‌رسد آمریکایی‌ها می‌خواهند با این سیاست زمان بخرند و  تیم مذاکره کننده هسته‌ای ایران را هم زیر فشار حداکثری افکار عمومی قرار دهند و افکار عمومی را در داخل نسبت به مذاکرات شرطی کنند و بگویند که همه چیز در گرو اراده آمریکا و بازگشت او به برجام است .\n",
      " آمادگی کره برای بازگردان وجوه بلوکه شده نفت ایران در این کشور، یک بازی سیاسی است این سناریو آمریکا با مشارکت کره‌جنوبی و کشورهای سرسپرده خود به مرحله اجرا در آورده است .\n",
      " اعلام آمادگی کره برای بازگردان وجوه بلوکه شده نفت ایران در این کشور، یک بازی سیاسی است .\n",
      " کره حتی قصد بازگرداندن پول نقد به ایران را ندارد و می‌گوید از ما به جای طلبی که دارید کالا بگیرید .\n",
      "خبرگزاری فارس؛ محسن صمیمی، مرتضی علیزاده: یکی ـ دو ماه پایانی دولت روحانی، اروپا و آمریکا تقریبا از ادامه مذاکرات وین دست کشیدند و منتظر ماندند تا دولت سیّد ابراهیم رئیسی کار خود را آغاز کند .\n",
      " آنها می دانستند که رویکرد سیاست خارجی دولت جدید تفاوت فاحشی با رویکرد دولت قبل دارد و نمی توان با دست فرمان سابق با ایران تعامل و یا به عبارتی منازعه دیپلماتیک کرد .\n",
      "  دولت جدید که روی کار آمد رسما گفت که پیش شرط ورود ایران به مذاکرات، انجام تعهدات برجامی آمریکاست و به عبارتی باید تحریم ها لغو شوند .\n",
      " آمریکایی ها هم به صراحت گفتند که خبری از لغو تحریم نیست .\n",
      " در این میان آژانس بین المللی انرژی اتمی با مدیریت رافائل گروسی نقش فعالی را ایفا می کند و سفرهایی را به ایران ترتیب داده است .\n",
      " اروپا نیز نماینده خود را به ایران فرستاد و کنش‌های سیاسی و دیپلماتیک در جریان است .\n",
      " از این روست که در گفت‌وگویی با ابوالفضل ظهره‌وند سفیر اسبق ایران در ایتالیا و افغانستان به بررسی ابعاد مذاکرات احتمالی برجامی در آینده و مواضع مقامات دو طرف پرداخته است .\n",
      " متن کامل این گفت‌وگو به شرح ذیل است:       ** تحریم هیچ‌گاه نمی تواند لغو شود  علت پافشاری آمریکا و سه کشور اروپایی برای این که مذاکرات هسته‌ای دقیقاً از انتهای دوره ششم ادامه یابد چیست ؟\n",
      " ظهره‌وند: به اعتقاد من موضع کنونی آمریکایی‌ها در پی تکمیل پروژه قبلی خودشان است .\n",
      " به‌همین خاطر هم هست که می‌بینیم آمریکایی‌ها بعد از توافق برجام حدود ۱۵۰۰ تحریم جدید را برای ایران وضع کردند .\n",
      " نیمی از آن تحریم‌ها مربوط به دوره اوباما و نیمی نیز مربوط به دوره ترامپ است .\n",
      " ضمن اینکه فراموش نکنیم بخش مهمی از وزارت خزانه داری آمریکا اساساً بر پایه تحریم ایران شکل گرفته و این مهندسی که اتفاق افتاده نمی تواند متوقف شود و تحریم هیچ گاه نمی تواند لغو شود و یا باید تحریم‌ها کلاً اسقاط شود که این به طرز عمل ما برمی‌گردد و یا باید مدیریت شویم و این منظومه تحریمی را تکمیل کنیم .\n",
      " نقطه عزیمت در پروژه برجام که شامل مذاکرات جامع می‌شود، تغییر رژیم و تغییر نُرم در ساختار سیاسی ایران است .\n",
      " این پروژه ای بود که اروپایی‌ها آمریکایی ها را متقاعد به آن کردند چون قبلاً آمریکایی‌ها معتقد بودند که ما باید با برخورد سخت و نظامی رژیم ایران را تغییر دهیم، ولی بعدها متقاعد شدند که می توانند با تقسیم کار به جایی برسند که رفتار ما را در حوزه سیاست خارجی و محیط داخلی تغییر بدهند، چون تغییر رفتار تغییر رویکرد را سبب می شود .\n",
      " این یعنی دور کردن ما از رویکرد های انقلابی و ایجاد یک زیستار و پارادایم جدید در نظام سیاسی ایران و بین الملل .\n",
      " ** آمریکا به دنبال افزایش اثربخشی تحریم‌هاست آمریکایی ها برای اینکه بتوانند ایران را مهار کنند و تغییر بدهند هیچ انگیزه‌ای ندارند که حتی آن بخشی از تحریم های مرتبط به هسته ای در دوره ترامپ را هم لغو کنند .\n",
      " فکر می‌کنند که باید اثربخشی تحریم‌ها افزایش پیدا کند .\n",
      " برای این کار تقسیم کار بین آمریکا و اروپا وجود دارد و الان هم تقسیم کاری بین رژیم صهیونیستی و آمریکایی ها و آژانس اتفاق افتاده است .\n",
      " با این تهدیدات پروژه چماق و هویج را اجرا می کنند و تهدیدانگاری ایران جزو دستور کار آنان است، چون ایران اساساً به دلیل ذات نظام سیاسی اش نه تنها با سلاح‌های کشتار جمعی نسبتی ندارد، بلکه اتفاقاً اگر در این حوزه بتوانیم دیپلماسی هسته ای خود را در حوزه مسائل سلاح‌های استراتژیکی حل کنیم و به نقطه ای برسانیم که می‌خواستیم در هسته‌ای هم به آن برسانیم، باید نظام بین الملل عاری از سلاح هسته ای باشد چون دیگر کار بستی ندارد .\n",
      "  ** آمریکا در انفعال است و مسئله هسته‌ای اولویتش نیست اینها نشان می‌دهد که آموزه های انقلابی و مذهبی و منظومه معرفتی ما اساساً نسبتی با سلاح‌های کشتار جمعی ندارد چون مخاطب ما عام است و ظرفیت های‌مان ظرفیت‌های عام هست و ما امروز حتی بین یهودی‌های دنیا هم مخاطب داریم و یهودی هایی هم که ضد صهیونیسم هستند کلام و دعوت ما را می‌فهمند و ایران پرچمدار دین دعوت است .\n",
      " به اعتقاد من آمریکایی‌ها الان در موضع انفعال هستند و مسئله هسته‌ای اولویت آنها نیست .\n",
      " مسئله آمریکایی‌ها موقعیت منطقه‌ای‌شان است .\n",
      "  آقای کرزای صراحتاً گفت که آمریکایی‌ها به من گفتند مسئله ما با ایران مسئله هسته‌ای نیست بلکه تعارض جوهری داریم و باید ایران را تسلیم و استحاله کنیم .\n",
      " البته این امکان پذیر نیست چون ایران، ایران گذشته نیست و آمریکا هم  دیگر همان امریکای سابق نیست و ضعیف‌تر شده است ولی با این حال باید در جنبه بازدارندگی مسئله را مورد بررسی قرار داد .\n",
      " به نظر شما این بدون در نظر گرفتن بدعهدی طرف غربی و عدم لغو تحریم ها چه معنایی می تواند بدهد ؟\n",
      " اینکه می خواستند ایران را هنجارسازی کنند، یعنی از هنجارهای خود دست بردارد و هنجارهای آمره را که موید هویت غربی و سازگار با منافع سازی غربی هست بپذیرد .\n",
      "  به اعتقاد من آمریکایی‌ها به هیچ عنوان الان متمایل به دادن هیچ گونه امتیازی نیستند چون می گویند اگر امتیازی داده ایم فرجام کار مشخص نیست .\n",
      " تقریباً همه مقامات آمریکایی الان حرفی از توقف برجام نمی زنند علی‌رغم این که مقامات ایرانی تاکید دارند که پیش زمینه ادامه مذاکرات لغو تحریم‌هاست .\n",
      " به این اشاره داشتید که آمریکایی‌ها قصد لغو تحریم ندارند .\n",
      " ازسویی نیز ایران چالش سختی پیش روی آن قرار داده و می‌گوید باید تحریم‌ها لغو شود تا مذاکره کنیم .\n",
      " پس اگر آن ها عنوان می‌کنند که برجام برای غرب آورده امنیتی داشته که من با این حرف موافق نیستم، چون ایران تهدید هسته‌ای نبوده و ایران را یک تهدید معتبر کرده‌اند، در این صورت نیز باید هزینه آن را بدهند .\n",
      " در این مورد مبنا موضع مقام معظم رهبری هست که به لغو تمامی تحریم‌ها تاکید داشتند .\n",
      " اروپایی‌ها و آمریکایی‌ها تحریم‌ها را لغو می‌کنند و ما به تعهداتی که قبلاً داده ایم برمی گردیم ولی این‌ها قصد لغو تحریم ندارند .\n",
      " تصورش این است که می‌تواند شرایطی را طی ماه های آینده به منطقه و ایران تحمیل کند که ایران از سر ناچاری مجبور شود در زمین بازی برجام دوباره امتیاز بدهد و از این طریق فشاری روی ایران بیاورد و امتیاز بگیرد .\n",
      " این از خواب هایی است که تعبیر ناشدنی است و آنها فکر می کنند که مشکلات اقتصادی، ایران را وادار می کند که سر میز مذاکره برود .\n",
      " ** آمریکا به دنبال تغییر ژوپلیتیک منطقه است این مسئله را مقداری تشریح می‌کنید ؟\n",
      " پروژه برجام چه ارتباطی می تواند با پروژه‌های منطقه ای آمریکا داشت باشد ؟\n",
      " همچنین مسئله بازسازی سوریه و گرفتاری هایش وجود دارد و عراق نیز به همین ترتیب دچار مشکل است و ایران هم دچار تحریم است .\n",
      " ایران کشوری مادر است و عمق استراتژیک آن در محیط پیرامونی خودش و وسیع‌تر از جغرافیای طبیعی اش هست و امروز مردم منطقه متوجه ظرفیت ها و موقعیت ایران و هم‌راستایی در تهدید و فرصت با ایران هستند .\n",
      " این هم‌راستایی به یک تهدید معتبر علیه غرب تبدیل شده و آمریکایی ها اگر نتوانند ایران و چین را در افغانستان متوقف کنند دیگر نمی توانند در محیط داخلی خودشان هم منسجم شوند .\n",
      " افغانستان یک آوردگاه نهایی برای ایران، آمریکا و چین است و افغانستان را برای اهداف شوم خودشان در منطقه قربانی و تباه کردند .\n",
      " بحث من داعش و طالبان نیست بلکه مسئله آمریکا و سرویس جاسوسی آن و آقای ویلیام برنز هست که در منطقه این کار را انجام می دهد .\n",
      " هرچند خود خلیل‌زاد هم به آمریکایی‌ها به خاطر شوونیسم پشتویی‌اش خیانت کرد و آمریکایی‌ها را در مهلکه انداخت .\n",
      " آمریکایی ها در افغانستان وضع خرابی دارند .\n",
      " تنها کارشان این بوده که نمی خواهند پول های مردم را بدهند و مردم را در محل انداخته اند اما اگر هوشمندانه کار شود آمریکایی‌ها باید بساطشان را از منطقه جمع کنند .\n",
      "  ** آمریکا می‌خواهد برجام را زنده نگه دارد شاهد هستیم که مقامات اروپایی و آمریکایی و رافائل گروسی مدیر کل آژانس بین المللی انرژی اتمی فضای مثبتی از مذاکرات و برجام ارائه می دهند .\n",
      " آیا به نظر شما به موازات کار سیاسی یک کار رسانه‌ای انجام می‌دهند به این صورت که خود را موافق ادامه برجام نشان دهند و ایران را از این جنبش در انزوای رسانه قرار دهند ؟\n",
      " ظهره وند: می‌خواهند به ایران فشار وارد کنند و در افکار عمومی نشان دهند که برجام حالت احتضار و مرده ندارد چون اگر پروژه برجام فقط در توافق برجام خلاصه شود مرگ آن است .\n",
      "  ** آمریکا نیازمند یک دستاورد برای حفظ فضای مذاکراتی با ایران است یعنی صبر می کنند که پروژه هایی که به آن اشاره کردید به نتیجه برسد .\n",
      "  ظهره وند: الان نیازمند یک دستاورد هستند تا فضای مذاکراتی بین خودشان و ایران را حفظ کنند چون آنها مسئول احیای این مرده در آغوششان هستند و جنازه برجام بر دوش ایران نیست و ما کاری که نباید می کردیم را کرده‌ایم .\n",
      " ما الان دنبال چک‌برگشتی مان هستیم و می گوییم که چک برجام برگشت خورده و اگر قرار است آمریکایی‌ها سر میز بنشینند، باید چک برگشتی را پر کنند و تضمین هم بدهند که دیگر بازی گذشته را تکرار نمی‌کنند .\n",
      " اما آمریکایی‌ها می‌گویند ایران به تعهدات خود برگردد تا ما سریع وارد شویم، در حالی که ما علاقه نداریم آنها وارد برجام شوند، چون ما الان ۱۵۰۰ تحریم اضافه داریم به علاوه این که آب سنگین و نیروگاه اراک و سانتریفیوژهای فردو را از دست داده ایم و ۱۱تن اورانیوم خود را از بین برده ایم و کل نیروی ما اینجا ضربه خورده و باید هزینه‌های ما را جبران کنند .\n",
      "  ** آمریکا به دنبال اهرم‌سازی برای وادار کردن ایران به مذاکره‌ است این اتفاقات نیفتاده و حاضر هم نیستند بیفتد و تا اینجا هم که آمده اند می خواهند موقعیت خودشان را حفظ کنند .\n",
      " بنابراین آمریکایی‌ها مسئله را صرفاً در برجام اتمی نمی بینند بلکه به صورت مذاکرات جامع می بینند به دنبال اهرم سازی در حوزه‌های دیگر هستند تا بتوانند ایران را وادار به حضور در پای میز مذاکره کنند .\n",
      "  حتی از برخی دوستان شنیدم که مطرح کرده‌اند که ما از زمان شروع دوران ترامپ مذاکرات را مطرح کنیم که باز با موضع مقام معظم رهبری زاویه دارد که بر «لغو تمامی تحریم‌ها» تاکید کردند،  اما اگر همین کار را هم بکنند و بگویند از زمان آخرین روز اوباما این کار را انجام دهیم، توپ در زمین ما می‌افتد در حالی که الان توپ در زمینه طرف آمریکایی و زیر پای ما و روبه دروازه آنها است و الان در حال گل خوردن هستند .\n",
      " ایران در منطقه باعث اخراج آمریکا شد و شکست آمریکا در افغانستان و عراق و سوریه و یمن را منجر شد و در افغانستان مجبور شدند شیوه بازی را عوض کنند وگرنه موضوع طالبان و آمریکا را من در یک پکیج می‌بینم .\n",
      " تمام این اتفاقات بازی خود آمریکایی ها به خاطر ضربه ای که در عراق و سوریه و لبنان و یمن خورده‌اند بوده است و پروژه داعش کردن منطقه شان به باد فنا رفت .\n",
      " ترامپ گفت داعش را ما درست کردیم و کلینتون هم گفت طالبان را ما درست کردیم و این پروژه آمریکایی ها برای تغییر در ژئوپلیتیک منطقه است و ما باید این را برای مردم تبیین کنیم .\n",
      " ضمن اینکه حقوق هسته‌ای و منافع امنیت ملی ایران دیگر قابل معامله نیست .\n",
      " این بازی گذشت و ما پروژه‌ای به نام برجام نداریم و لازمه موافقتنامه برجام همین است که تحریم ها را لغو کنند تا ما پای میز مذاکره بنشینیم .\n",
      " تصمیم با طرف آمریکایی هست و توپ در زمین آنها است تا تصمیم بگیرند این توپی که زیر پای ایران است به سمت چهارچوب دروازه برود یا خیر .\n",
      " ** الزامات تکنولوژیکی ما حوزه فعالیت‌های هسته‌ای ما را تعیین می کند      نکته ای در مورد میدان توان هسته‌ای جمهوری اسلامی ایران وجود دارد اما اخیراً خبری از سوی رئیس سازمان انرژی اتمی شنیدیم که ظرفیت هسته ای ایران از جنبه های مختلف که یکی از آنها افزایش سانتریفیوژ هاست افزایش می یابد .\n",
      " امروز شرایط ایران مستلزم این است که به سمت انرژی‌های پاک برویم و یکی از مهم‌ترین انرژی‌های پاک که ما منابعش را هم داخل ایران داریم تکنولوژی هسته‌ای هست .\n",
      " ضمن اینکه ایران همکاری‌های خودش را در چارچوب پادمان انجام داده و خواهد داد، اضافه‌خواهی و اینکه بخواهند ایران را در چارچوب پروژه خودشان تعریف کنند قابل قبول نیست وگرنه ایران کاملاً با پادمان ها سازگار جلو می‌رود .\n",
      "  ** ایران‌هراسی سرمایه ژئوپلیتیکی آمریکا در منطقه است این اقدامات به رفتار آمریکایی‌ها و اروپایی‌ها چه تاثیری می‌گذارد ؟\n",
      " ظهره وند: آمریکایی‌ها سعی می‌کنند با ایران‌هراسی و تهدیدانگاری فعالیت‌های هسته‌ای ایران به سمت پروژه براندازی نرم از داخل ایران بروند، در حالی که موضوع فعالیت‌های هسته‌ای ایران اساساً ربطی به تحولات منطقه ندارد و نه قرار است ما بیرون از توافق با آژانس کاری را انجام دهیم و نه قرار است به سمت تولید بمب هسته ای برویم که معادلات نظامی منطقه را به هم بزند .\n",
      " معتبر نشان دادن فعالیت‌های هسته‌ای ایران و ایران‌هراسی سرمایه ژئوپلیتیکی آنها در منطقه برای بازی آن‌هاست درحالی که اتفاقاً دیپلماسی ایران باید به سمتی برود که تا می‌تواند در این حوزه هم دیپلماسی رسانه‌ای را تقویت کند و هم شفافیت ایجاد کند .\n",
      " وقتی وارد حوزه هسته‌ای می‌شویم، استانداردها چه در ایران و چه در آمریکا و فرانسه باید رعایت شوند وگرنه تبدیل به یک تهدید خطرناک می‌شوند .\n",
      " پس از پایان دوره مذاکرات تیم آقای جلیلی با ۵+۱ این مسئله مطرح شد که اگر آن روند ادامه می یافت تحریم‌ها خود به خود بی‌اثر و حتی حذف می‌شد و این استناد به اظهار نظر برخی از مقامات آمریکایی بود .\n",
      "  آیا به نظر شما مسیری که الان در حال طی شدن هست می‌تواند به بی اثر شدن تحریم ها منجر شود ؟\n",
      " ظهره وند: چنانچه ما بتوانیم همانطور که آقای رئیسی هم اشاره کردند، سفره مردم و مسائل اقتصاد ملی را به مسئله برجام گره نزنیم، تحریم ها برای ما به فرصت تبدیل می شوند؛ چون تحریم‌ها نشان می‌دهند که دشمن ما یعنی آمریکا به چه بخشی از نقاط ضعف ما پی برده و روی آن سرمایه گذاری می‌کند و باید آن نقطه ضعف را به قوت تبدیل کنیم که برای مثال بنزین یک نمونه آن است .\n",
      " قبل از فتنه سال ۸۸ آقای برژینسکی که الان جهان را ترک کرده، عنوان می‌کرد که دیگر تحریم اثر ندارد و باید به سمت تعادل‌های بازدارندگی در منطقه برویم و این خیلی مهم بود .\n",
      " اما وقتی آن فتنه راه افتاد و کلید خورد، آمریکایی‌ها و خانم هیلاری کلینتون را متوجه کرد که می‌‌توان روی این پروژه سرمایه‌گذاری کرد و برجام هم آمریکایی‌ها را تشویق کرد که می توان این کار را انجام داد .\n",
      " اگر آن چهار بند  FATF را که می‌خواستند امضا کنند، امضا می‌کردند ایران قفل می‌شد .\n",
      " FATF مشکل ما را حل نمی‌کرد بلکه مشکلات را بر ما رسوب می داد چون ما متاثر از تحریم‌های اولیه و ثانویه آمریکایی‌ها هستیم که نه به برجام ربطی دارد و نه بهFATF و هیچ سازمان بین المللی .\n",
      " یک تصمیم ملی داخلی ایالات متحده آمریکا برای ایران است تا تحریم‌ها را موثر بکنند .\n",
      " ظرفیت ژئوپلیتیکی آمریکایی‌ها بسیار پایین است ولی ظرفیت اقتصادی‌شان در محیط بین‌الملل بالاست و حدود ۴۵ درصد GDP جهان را دارند .\n",
      "سیدنریمان قاسمی- به گزارش خبرنگار تشکل‌های دانشگاهی خبرگزاری فارس، به همت دفار بسیج دانشجویی در دانشگا‌های بزرگ تهران نشست بررسی روند مذاکرات وین و مسئله مذاکره مستقیم با آمریکا با حضور مهدی کوچک‌زاده، محمدصادق کوشکی، حمیدرضا ترقی، مسعود براتی و مهدی خرسند برگزار شد .\n",
      " * آمریکا استاد دور زدن‌های بین المللی است محمد صادق کوشکی عضو هیات علمی دانشگاه تهران در این نشست گفت: ایران برای فروش نفت و سایر اقلام از تحریم عبور کرده است و امتیاز هایی که ایران از مذاکره می خواهد عملا سوخته است .\n",
      " خیر، من به آمریکا  اعتمادی ندارم .\n",
      " آمریکا استاد دور زدن های بین المللی است .\n",
      " مگر سال گذشته ۱ میلیارد دلار با روسیه تبادلات داشتیم در حالی که آمریکا معافیت تحریمی نداده بود .\n",
      " جهان به سمتی می رود که ایران از تحریم ها عبور کند .\n",
      " این استاد دانشگاه افزود: آمریکا باید بیرون از برجام بماند تا یاد بگیرد که دیگر هیچ تعهدی را پاره نکند .\n",
      " بهترین تنبیه برای آمریکا این است که هیچ مذاکره مستقیمی به هیچ قیمت و به هیچ دلیل و وعده‌ای اتفاق نیفتد .\n",
      " معتقدم مگر کسی دیوانه باشد که دلخوش به وعده‌های آمریکا بخواهد مذاکره کند .\n",
      " تعلیق تحریم ها ؟\n",
      " چه تضمین اجرایی وجود دارد که تحریم ها تعلیق شود‌ ؟\n",
      " این استاد دانشگاه افزود: درست آن است که اول آمریکایی ها تحریم ها را بردارند و وقتی قطعی به این نتیجه رسیدیم که تحریم ها لغو شده و بازار را به کنترل در آوردیم سپس به تعهداتمان  برگردیم .\n",
      " اما کنگره آمریکا شفاف می گوید زیر بار این تعهدات نمی روم و بایدن اگر با اختیارات خود تحریم ها را لغو کند به وضوح گفته اند دولت بعدی به این تعهدات رد و بدل شده پایبند نیست .\n",
      " چرا می خواهیم آمریکا را به برجام برگردانیم تا دنیا  فراموش کند که آمریکا یک جانبه از تعهدات خارج شد نه ایران !\n",
      " از این رو خدایی نکرده اگر مردم و رزمندگان یمنی ببینند که جمهوری اسلامی با آمریکا برای چندمین بار سر میز مذاکره نشسته آن‌ها چه خواهند گفت و چگونه خود را توجیه خواهند کرد که منطق انقلاب اسلامی نه به مستکبرین بوده است .\n",
      " وی گفت: توافق با آمریکایی‌ها در این شرایط بهترین کادو به دولت بایدن است .\n",
      " استاد دانشگاه تهران ادامه داد: خیلی وقت‌ها ممکن است دو گروه به دلایل متفاوت با یک نکته مخالف باشند، اما این بدان معنا نیست که این دو گروه با هم هم جهت و همسان هستند؛ مثلا ما با اشغال افغانستان توسط شوروی مخالف بودیم و آمریکایی‌ها هم مخالف بودند و این مخالفت هم به این دلیل نبوده که ما با آمریکا دوست هستیم و مواضع ما با آن‌ها یکی است .\n",
      " وی تاکید کرد: ما به دلایل دیگری مخالف سرسخت اشغال افغانستان بودیم و آمریکایی‌ها هم به دلایل کاملا متفاوتی مخالف این حرکت بودند؛ پس اینکه امرور رژیم صهیونیستی با یک مسئله مخالف است این دلیل نمی‌شود که این مسئله، مسئله درستی است .\n",
      " نکته سر این است که اسرائیل از ابتدای مذاکرات برجامی تاکنون دنبال یک نکته بوده و آن هم این بود که از آمریکا مطالبه حداکثری کند تا به ایران حمله نظامی کند، اما چون آمریکایی‌ها این کار را نکردند از آن‌ها گلایه دارند .\n",
      " امروز صهیونیست‌ها می‌گویند برجام ۲۰۱۵ بسیار به نفع ما بود، اما خروج آمریکا از برجام باعث شد تا موضع ایرانی‌ها تقویت شود .\n",
      " امروز اسرائیلی‌ها می‌گویند که ما آن روز می‌گفتیم که با برجام مخالفیم و می‌گفتیم که آمریکا باید به ایران حمله کند، اما آن برجام، برجام درستی بود و ایران را زیر منگنه و زیر سخت‌ترین بازرسی‌ها گذاشته بود و ایران نمی‌توانست در فضای هسته‌ای خود تنفس کند و نوآوری داشته باشد و ترامپ اشتباه کرد و از آن برجام بیرون آمد و ایران به سمت غنی سازی ۶۰ درصد رفت .\n",
      " * هر مذاکره‌ای با آمریکا اشتباه است  مهدی کوچک زاده نماینده سابق مجلس شورای اسلامی افزود: کیست که نداند مردم ما در سختی هستند .\n",
      " کوچک زاده ادامه داد:  فرقی بین ظریف و باقری کنی در مذاکره با آمریکا وجود ندارد و ما مخالف این رویکردیم .\n",
      " از نظر بنده هر مذاکره‌ای با آمریکا به عنوان قاتل شهید سلیمانی اشتباه است .\n",
      " * تحریم باید کم اثر شود  مسعود براتی کارشناس مسائل تحریم اظهار داشت: تا تشنگی برای رفع تحریم باشد، تحریم رفع نخواهد شد؛ توافق خوب به این زودی‌ها برای ما ایجاد نخواهد شد؛ چرا که مذاکرات در دور جنگ اقتصادی تله است .\n",
      " رهبر معظم انقلاب مسیر را روشن کرده است؛ لغو تمام تحریم‌ها و راستی آزمایی و بازگشت به برجام‌ ...\n",
      "      براتی تاکید کرد: تحریم باید کم اثر شود و تا تشنگی برای رفع تحریم‌ها در ایران وجود داشته باشد تحریم‌ها رفع نخواهد شد .\n",
      " تحریم‌ها تنوعشان زیاد، اما اثرشان یکی است؛ یعنی برداشتن برخی تاثیر گذار نیست .\n",
      " آمریکایی ها از برجام انتظار محدودیت منطقه ای داشتند و ما انتظار گشایش اقتصادی داشتیم .\n",
      " دقیقا قبل از امضا در لوزان بیانیه ای را از طرف ایران صادر کردند که دقیقا ۱۸۰ درجه با بیانیه آمریکا مخالف بود .\n",
      " آمریکایی‌ها از برجام انتظار محدودیت منطقه‌ای داشتند و ما انتظار گشایش اقتصادی .\n",
      " خورسند یادآور شد: دولت سیزدهم ثابت کرد بدون آمریکا و اروپا و با ارتباط با منطقه هم می‌توان نه گرسنه بود و نه در شعب ابی طالب قرار داشت .\n",
      " *  اقدامات ایران در جهت پیشرفت هسته‌ای غرب را در برابر یک شرایط سخت قرار داده است حمیدرضا ترقی قائم‌مقام دبیرکل حزب موتلفه اسلامی هم در این نشست گفت: به نظر می‌رسد که اقدامات ایران در جهت پیشرفت هسته‌ای غرب را در برابر یک شرایط سخت قرار داده به این صورت که یا باید از مواضع خود عقب نشینی کند و یا پیشرفت هسته‌ای ایران را بپذیرد و عبور از خط قرمز‌های مدنظر خود را قبول کنند .\n",
      " ترقی ادامه داد: شور‌های اروپایی تاکنون تلاش می‌کردند تا ایران را برای کوتاه آمدن از مواضع خود قانع کنند، اما تلاش‌های آن‌ها نتیجه‌ای نداشته است و ایران همچنان معتقد است تا تحریم‌ها لغو نشود و راستی آزمایی صورت نگیرد و از طرفی تا آمریکا و غربی‌ها تضمین‌های لازم را ندهند که دیگر زیر این توافق نزنند طبیعتا کشورمان نمی‌تواند این توافق را بپذیرد .\n",
      " وی افزود: ایران در مذاکرات هیچ عجله‌ای ندارد و اگر آن‌ها اصرار دارند که برای مذاکرات زمان تعیین کنند به این دلیل است که بتوانند کشورمان را تحت فشار روانی قرار بدهند تا یک اصطکاک بین مردم و نظام ایجاد شود و از این طریق بتوانند مردم را به سمت خواسته‌های خود سوق بدهند در نهایت نظام مجبور شود شرایط آن‌ها را بپذیرد .\n",
      " از طرفی وضعیت امروز برجام هم برای ما هیچ نفعی ندارد، چون دولت و مجموعه نظام توانسته اند با توافق‌های جدید و کاهش وابستگی‌های اقتصاد به برجام آثار و تبعات تحریم را به حداقل برسانند .\n"
     ]
    }
   ],
   "source": [
    "for doc_id in ['9742', '6929', '8707', '11864', '7731']:\n",
    "    text = docs[doc_id]['content']\n",
    "    sentences = tokenizer.tokenize_sentences(text)\n",
    "    tokens = PositionalIndex.preprocess(query)\n",
    "    for sentence in sentences:\n",
    "        for token in tokens:\n",
    "            found = False\n",
    "            if token in sentence:\n",
    "                print(sentence)\n",
    "                found = True\n",
    "            if found:\n",
    "                break"
   ]
  },
  {
   "cell_type": "code",
   "execution_count": 27,
   "id": "cc8f12e6",
   "metadata": {},
   "outputs": [
    {
     "data": {
      "text/html": [
       "<div>\n",
       "<style scoped>\n",
       "    .dataframe tbody tr th:only-of-type {\n",
       "        vertical-align: middle;\n",
       "    }\n",
       "\n",
       "    .dataframe tbody tr th {\n",
       "        vertical-align: top;\n",
       "    }\n",
       "\n",
       "    .dataframe thead th {\n",
       "        text-align: right;\n",
       "    }\n",
       "</style>\n",
       "<table border=\"1\" class=\"dataframe\">\n",
       "  <thead>\n",
       "    <tr style=\"text-align: right;\">\n",
       "      <th></th>\n",
       "      <th>title</th>\n",
       "      <th>url</th>\n",
       "      <th>rank</th>\n",
       "    </tr>\n",
       "  </thead>\n",
       "  <tbody>\n",
       "    <tr>\n",
       "      <th>8282</th>\n",
       "      <td>خطیب جمعه تهران: سازمان‌ همکاری اسلامی در براب...</td>\n",
       "      <td>https://www.farsnews.ir/news/14001108000202/خط...</td>\n",
       "      <td>4</td>\n",
       "    </tr>\n",
       "    <tr>\n",
       "      <th>7491</th>\n",
       "      <td>مسائل اقتصادی کشور را معطل نتیجه مذاکرات نمی‌‌...</td>\n",
       "      <td>https://www.farsnews.ir/news/14001203000383/مس...</td>\n",
       "      <td>3</td>\n",
       "    </tr>\n",
       "    <tr>\n",
       "      <th>7252</th>\n",
       "      <td>تجربه نشان داده به عهد آمریکا در مذاکرات نمی‌ش...</td>\n",
       "      <td>https://www.farsnews.ir/news/14001203000366/تج...</td>\n",
       "      <td>2</td>\n",
       "    </tr>\n",
       "    <tr>\n",
       "      <th>9994</th>\n",
       "      <td>امام جمعه موقت تهران: مذاکره کنونی با گذشته که...</td>\n",
       "      <td>https://www.farsnews.ir/news/14000919000137/ام...</td>\n",
       "      <td>2</td>\n",
       "    </tr>\n",
       "    <tr>\n",
       "      <th>6878</th>\n",
       "      <td>انتقاد دانشجویان ایرانی در اروپا به برخورد دوگ...</td>\n",
       "      <td>https://www.farsnews.ir/news/14001224000014/ان...</td>\n",
       "      <td>2</td>\n",
       "    </tr>\n",
       "  </tbody>\n",
       "</table>\n",
       "</div>"
      ],
      "text/plain": [
       "                                                  title  \\\n",
       "8282  خطیب جمعه تهران: سازمان‌ همکاری اسلامی در براب...   \n",
       "7491  مسائل اقتصادی کشور را معطل نتیجه مذاکرات نمی‌‌...   \n",
       "7252  تجربه نشان داده به عهد آمریکا در مذاکرات نمی‌ش...   \n",
       "9994  امام جمعه موقت تهران: مذاکره کنونی با گذشته که...   \n",
       "6878  انتقاد دانشجویان ایرانی در اروپا به برخورد دوگ...   \n",
       "\n",
       "                                                    url  rank  \n",
       "8282  https://www.farsnews.ir/news/14001108000202/خط...     4  \n",
       "7491  https://www.farsnews.ir/news/14001203000383/مس...     3  \n",
       "7252  https://www.farsnews.ir/news/14001203000366/تج...     2  \n",
       "9994  https://www.farsnews.ir/news/14000919000137/ام...     2  \n",
       "6878  https://www.farsnews.ir/news/14001224000014/ان...     2  "
      ]
     },
     "execution_count": 27,
     "metadata": {},
     "output_type": "execute_result"
    }
   ],
   "source": [
    "query = 'تحریم های آمریکا ! ایران'\n",
    "index.query(query).head(5)"
   ]
  },
  {
   "cell_type": "code",
   "execution_count": 28,
   "id": "5e7417af",
   "metadata": {},
   "outputs": [
    {
     "name": "stdout",
     "output_type": "stream",
     "text": [
      " * لزوم شکران نعمت انقلاب/ تمام تحریم‌ها باید لغو شود امام جمعه موقت تهران، همچنین با اشاره به چهل و سومین سالگرد پیروزی انقلاب اسلامی اظهار داشت: دهه فجر از مصادیق ایام‌الله است؛ یعنی روزهایی که خداوند نعمت ویژه‌ای به مردم داده است و جز با عنایت خداوند، این انقلاب پیروز نمی‌شد .\n",
      " خاتمی افزود: تمام دنیا اعم از آمریکا و شوروی و اروپایی‌ها پشت سر شاه بودند،‌ اما مرگ بر شاه گفتن‌های شما مردم باعث شد که شاه برود .\n",
      " وی به مذاکرات لغو تحریم‌ها هم اشاره کرد و گفت: آمریکا در پی غارتگری است، نه مذاکره؛ آمریکا خواب و خیال غارتگری قبل از انقلاب را دارد و این خواب هرگز تعبیر نشده و نخواهد شد .\n",
      " امام جمعه موقت تهران افزود: آمریکا در طول این 43 سال هرچه توانست بر علیه این انقلاب توطئه کرد و اگر هم توطئه‌ای نکرده، چون نتوانسته، نه اینکه نخواسته است .\n",
      " خاتیم تصریح کرد: آنها مدام بر تحریم‌ها افزوده‌اند، خط رهبری در این حوزه روشن است؛ باید تمام تحریم‌ها اعم از هسته‌ای و حقوق بشری و  ...\n",
      " خاتمی گفت: قانون اساسی می‌گوید با تمام دنیا می‌توانیم بر اساس منافع متقابل ارتباط داشته باشیم و با رژیم صهیونیستی هیچ گاه ارتباط نخواهیم داشت و با آمریکا هم تا زمانی که آدم نشده، رابطه نخواهیم داشت .\n",
      " کسانی که می‌گویند ما با دنیا رابطه نداریم، گویا تمام دنیا را آمریکا می‌دانند !\n",
      "جبار کوچکی‌نژاد نماینده مردم رشت در مجلس شورای اسلامی در گفت‌وگو با خبرنگار پارلمانی خبرگزاری فارس، گفت: تجربه مذاکرات در سال‌های قبل با اروپا و آمریکا و به طور کل تجربه سال‌ها و دهه‌های قبل به ما نشان داده که غربی‌ها و به ویژه آمریکا قابل اعتماد نیستند .\n",
      " وی افزود: ما با توجه به این تجربه نباید حل مشکلات معیشتی و مسائل اقتصادی کشور را‌‌‌‌‌‌‌‌ به مذاکره با این کشورها منوط کنیم، آن هم در شرایطی که می‌دانیم اگر توافقی هم باشد آمریکایی‌ها عهدشکن هستند .\n",
      " عضو کمیسیون برنامه، بودجه و محاسبات مجلس اظهار داشت: ما باید با تکیه بر توان داخلی و ایجاد ثبات و رشد اقتصادی در کشور از این طریق در مسیر خنثی‌سازی تحریم‌ها گام برداریم و با قوی‌ شدن خودمان زمینه را‌‌‌‌‌‌‌‌ برای بی‌اثر کردن تحریم‌ها فراهم کنیم .\n",
      " کوچکی‌نژاد خاطرنشان کرد: رفع تحریم‌ها برای ما می‌تواند گشایش ایجاد کند، اما اولا رفع تحریم‌ها در اختیار ما نیست بلکه در اختیار دشمن ماست و طبیعتا ما نباید ادامه مسیر رشد و پیشرفت کشورمان را‌‌‌‌‌‌‌‌ منوط به رفع تحریم‌ها کنیم .\n",
      " وی افزود: ما باید بدانیم که آمریکا به عنوان یک دشمن همواره در صدد ضربه زدن به کشور، نظام و ملت ماست و طبیعتا بنایش برای آزادسازی تحریم‌ها و ایجاد گشایش اقتصادی در کشور ما نخواهد بود .\n",
      "غلامرضا منتظری نماینده مردم گرگان در مجلس شورای اسلامی در گفت‌وگو با خبرنگار پارلمانی خبرگزاری فارس، با اشاره به مذاکرات لغو تحریم و لزوم هوشیاری تیم مذاکره‌کننده ایرانی گفت: تجربه به ما نشان داده که آمریکا کشور بدعهدی است و نمی‌توان به آن اعتماد کرد .\n",
      " وی ادامه داد: در بحث مذاکرات هم نماینده آمریکا هیچ تضمینی برای لغو تحریم‌ها نمی‌داد و هیچ ضمانتی وجود نداشت که دولت بعدی آمریکا به توافقات پایبند باشد .\n",
      " آمریکا، اسرائیل و منافقین در خباثت و رذالتشان ما را حساس کردند و به همین خاطر، کشور ما برای مقابله با آنها به صنایع نظامی در حد محیرالعقولی دست یافت که امروز مقتدرترین کشور در منطقه است و در جهان نیز موقعیتی دارد که هیچ کشوری جرأت حمله به خودش نمی‌دهد .\n",
      " * آمریکا در سه جبهه منفعل شده است خطیب نماز جمعه تهران در ادامه با اشاره به آغاز دور جدید مذاکرات هسته‌ای و با بیان اینکه مذاکره هم به خارجی‌ها پیام دارد و هم به داخلی‌ها، اظهار داشت: پیام مذاکره این است که دولت مردمی و ولایی به دنبال تعامل حکیمانه و باعزت با همه دنیاست، اما این مذاکره با گذشته تفاوت دارد که نقد دادند و نسیه گرفتند و صبوری کردند و نتیجه برد ـ باخت بود .\n",
      " حجت الاسلام صدیقی تصریح کرد: امروز تیم مذاکره‌کننده ما محکم و با مطالعه هستند و بسته‌هایی برای رفع همه تحریم‌های ظالمانه دارند .\n",
      " وی در ادامه با بیان اینکه آمریکا در دوره‌های مختلف و در زمان ترامپ و قبل از او در سه جبهه علیه نظام جمهوری اسلامی توطئه کرد، افزود: این سه جبهه شامل وزارت خزانه‌داری آمریکا که مرتب تحریم‌های به قول خودشان فلج‌کننده را آماده می‌کند، وزارت خارجه آمریکا که با مسافرت‌های مختلف دولت‌ها و شرکت‌ها را از معامله با ما مرعوب می‌کنند و نیز سازمان سیا است که از ابتدای انقلاب تاکنون در صدد ایجاد نارضایتی در کشور بوده است .\n",
      "به گزارش حوزه تشکل‌های دانشگاهی خبرگزاری فارس، اتحادیه انجمن های اسلامی دانشجویان در اروپا جنایات صورت گرفته علیه بشریت توسط رژیم آل سعود در یمن و عربستان را به شدت محکوم و تاکید کرد: در حالیکه واکنش ها به جنگ اوکراین به فراتر از مجامع حقوق بشری راه یافته و از عرصه های ورزشی تا کلاس های درس و تحریم آثار داستایوفسکی کشیده شده است؛ جنایات آل سعود در حق مردم یمن و نیز عربستان با سکوت مجامع حقوق بشری همراه بوده است .\n",
      " متن این بیانیه به شرح زیر است: بسم الله القاصم الجبارین اگر از صدام بگذریم، اگر مسئله قدس را فراموش کنیم، اگر از جنایت های آمریکا بگذریم، از آل سعود نخواهیم گذشت .\n",
      " ان شاالله اندوه دلمان را در وقت مناسب با انتقام از آمریکا و آل سعود بر طرف خواهیم کرد و داغ و حسرت حلاوت این جنایت بزرگ را بر دلشان خواهیم گذاشت و با برپائی جشن پیروزی حق بر جنود کفر و نفاق و آزادی کعبه از دست نااهلان و نامحرمان به مسجدالحرام وارد خواهیم شد .\n",
      "  در حالیکه واکنش ها به جنگ اوکراین به فراتر از مجامع حقوق بشری راه یافته و از عرصه های ورزشی تا کلاس های درس و تحریم آثار داستایوفسکی کشیده شده است؛ جنایات آل سعود در حق مردم یمن و نیز عربستان با سکوت مجامع حقوق بشری همراه بوده است .\n"
     ]
    }
   ],
   "source": [
    "stop_words = PositionalIndex.stop_words.union({'!'})\n",
    "for doc_id in ['8282', '7491', '7252', '9994', '6878']:\n",
    "    text = docs[doc_id]['content']\n",
    "    sentences = tokenizer.tokenize_sentences(text)\n",
    "    tokens = PositionalIndex.preprocess(query)\n",
    "    for sentence in sentences:\n",
    "        for token in tokens:\n",
    "            found = False\n",
    "            if token not in stop_words and token in sentence:\n",
    "                print(sentence)\n",
    "                found = True\n",
    "            if found:\n",
    "                break"
   ]
  },
  {
   "cell_type": "code",
   "execution_count": 29,
   "id": "9c948efb",
   "metadata": {},
   "outputs": [
    {
     "data": {
      "text/html": [
       "<div>\n",
       "<style scoped>\n",
       "    .dataframe tbody tr th:only-of-type {\n",
       "        vertical-align: middle;\n",
       "    }\n",
       "\n",
       "    .dataframe tbody tr th {\n",
       "        vertical-align: top;\n",
       "    }\n",
       "\n",
       "    .dataframe thead th {\n",
       "        text-align: right;\n",
       "    }\n",
       "</style>\n",
       "<table border=\"1\" class=\"dataframe\">\n",
       "  <thead>\n",
       "    <tr style=\"text-align: right;\">\n",
       "      <th></th>\n",
       "      <th>title</th>\n",
       "      <th>url</th>\n",
       "      <th>rank</th>\n",
       "    </tr>\n",
       "  </thead>\n",
       "  <tbody>\n",
       "    <tr>\n",
       "      <th>6929</th>\n",
       "      <td>توضیحات یک منبع آگاه درباره وقفه مذاکرات وین</td>\n",
       "      <td>https://www.farsnews.ir/news/14001222000450/تو...</td>\n",
       "      <td>1</td>\n",
       "    </tr>\n",
       "  </tbody>\n",
       "</table>\n",
       "</div>"
      ],
      "text/plain": [
       "                                             title  \\\n",
       "6929  توضیحات یک منبع آگاه درباره وقفه مذاکرات وین   \n",
       "\n",
       "                                                    url  rank  \n",
       "6929  https://www.farsnews.ir/news/14001222000450/تو...     1  "
      ]
     },
     "execution_count": 29,
     "metadata": {},
     "output_type": "execute_result"
    }
   ],
   "source": [
    "query = '\"کنگره ضدتروریست\"'\n",
    "index.query(query).head(5)"
   ]
  },
  {
   "cell_type": "code",
   "execution_count": 30,
   "id": "c432d7e9",
   "metadata": {},
   "outputs": [
    {
     "name": "stdout",
     "output_type": "stream",
     "text": [
      " نمایندگان کنگره در واکنش به خریدهای‌ نفت اداره‌ی انرژی آمریکا از ایران، لایحه‌ای به‌ مجلس برده و با تصویب آن واردات نفت از ایران‌ را ممنوع کردند .\n",
      "   ریگان که نمی‌خواست کمتر از کنگره ضدتروریست جلوه کند، 3هفته بعد با صدور دستور ویژه‌ی (12613) ورود هرگونه کالا و خدمات از ایران را ممنوع کرد .\n",
      " در این دوران آمریکا سیاست‌های ضد ایرانی خود را ادامه داد به گونه‌ای که در مرداد 1375 قانون مجازات‌ها برضد ایران و لیبی در کنگره تصویب شد .\n",
      "افزون بر این‌ها، قانون تحریم همه ‌جانبه‌ی ایران در سال 1389 به تصویب کنگره‌ی این کشور رسید .\n"
     ]
    }
   ],
   "source": [
    "for doc_id in ['6929']:\n",
    "    text = docs[doc_id]['content']\n",
    "    sentences = tokenizer.tokenize_sentences(text)\n",
    "    tokens = PositionalIndex.preprocess(query)\n",
    "    for sentence in sentences:\n",
    "        for token in tokens:\n",
    "            found = False\n",
    "            if token not in stop_words and token in sentence:\n",
    "                print(sentence)\n",
    "                found = True\n",
    "            if found:\n",
    "                break"
   ]
  },
  {
   "cell_type": "code",
   "execution_count": 31,
   "id": "783643b9",
   "metadata": {},
   "outputs": [
    {
     "data": {
      "text/html": [
       "<div>\n",
       "<style scoped>\n",
       "    .dataframe tbody tr th:only-of-type {\n",
       "        vertical-align: middle;\n",
       "    }\n",
       "\n",
       "    .dataframe tbody tr th {\n",
       "        vertical-align: top;\n",
       "    }\n",
       "\n",
       "    .dataframe thead th {\n",
       "        text-align: right;\n",
       "    }\n",
       "</style>\n",
       "<table border=\"1\" class=\"dataframe\">\n",
       "  <thead>\n",
       "    <tr style=\"text-align: right;\">\n",
       "      <th></th>\n",
       "      <th>title</th>\n",
       "      <th>url</th>\n",
       "      <th>rank</th>\n",
       "    </tr>\n",
       "  </thead>\n",
       "  <tbody>\n",
       "    <tr>\n",
       "      <th>5268</th>\n",
       "      <td>توضیح فدراسیون فوتبال درمورد لزوم اصلاح اساسنا...</td>\n",
       "      <td>https://www.farsnews.ir/news/14001017000146/تو...</td>\n",
       "      <td>19</td>\n",
       "    </tr>\n",
       "    <tr>\n",
       "      <th>2788</th>\n",
       "      <td>اصولی: فدراسیون فوتبال جمهوری اسلامی ایران هست...</td>\n",
       "      <td>https://www.farsnews.ir/news/14001117000518/اص...</td>\n",
       "      <td>14</td>\n",
       "    </tr>\n",
       "    <tr>\n",
       "      <th>4918</th>\n",
       "      <td>عزیزی خادم: فوتبال ایران از وضعیت اسفبار گذشته...</td>\n",
       "      <td>https://www.farsnews.ir/news/14001021000577/عز...</td>\n",
       "      <td>14</td>\n",
       "    </tr>\n",
       "    <tr>\n",
       "      <th>1974</th>\n",
       "      <td>اخبار مهم جلسه 9 ساعته مدیران فدراسیون| اصولی:...</td>\n",
       "      <td>https://www.farsnews.ir/news/14001128000761/اخ...</td>\n",
       "      <td>13</td>\n",
       "    </tr>\n",
       "    <tr>\n",
       "      <th>2626</th>\n",
       "      <td>ماجدی:فدراسیون فوتبال بدون حمایت مجلس و دولت ک...</td>\n",
       "      <td>https://www.farsnews.ir/news/14001119000114/ما...</td>\n",
       "      <td>12</td>\n",
       "    </tr>\n",
       "  </tbody>\n",
       "</table>\n",
       "</div>"
      ],
      "text/plain": [
       "                                                  title  \\\n",
       "5268  توضیح فدراسیون فوتبال درمورد لزوم اصلاح اساسنا...   \n",
       "2788  اصولی: فدراسیون فوتبال جمهوری اسلامی ایران هست...   \n",
       "4918  عزیزی خادم: فوتبال ایران از وضعیت اسفبار گذشته...   \n",
       "1974  اخبار مهم جلسه 9 ساعته مدیران فدراسیون| اصولی:...   \n",
       "2626  ماجدی:فدراسیون فوتبال بدون حمایت مجلس و دولت ک...   \n",
       "\n",
       "                                                    url  rank  \n",
       "5268  https://www.farsnews.ir/news/14001017000146/تو...    19  \n",
       "2788  https://www.farsnews.ir/news/14001117000518/اص...    14  \n",
       "4918  https://www.farsnews.ir/news/14001021000577/عز...    14  \n",
       "1974  https://www.farsnews.ir/news/14001128000761/اخ...    13  \n",
       "2626  https://www.farsnews.ir/news/14001119000114/ما...    12  "
      ]
     },
     "execution_count": 31,
     "metadata": {},
     "output_type": "execute_result"
    }
   ],
   "source": [
    "query = '\"فدراسیون فوتبال\"'\n",
    "query += ' ایران '\n",
    "query += ' ! '\n",
    "query += 'خارجی'\n",
    "a = index.query(query).head(5)\n",
    "a"
   ]
  },
  {
   "cell_type": "code",
   "execution_count": 32,
   "id": "3491d3ff",
   "metadata": {},
   "outputs": [
    {
     "name": "stdout",
     "output_type": "stream",
     "text": [
      " از سال 1386 که بحث تعلیق فوتبال ایران مطرح شد اساسنامه فدارسیون‌های ورزشی آماتوری که در 32 ماده و مصوبه هیأت محترم وزیران بوده در فدراسیون فوتبال موجود نیست .\n",
      "  رئیس فدراسیون فوتبال ایران در این مراسم با اشاره به ظرفیت فوتبال گیلان اظهار کرد: مرحوم قایقران یکی از اسطوره‌های اخلاق و فنی کشورمان بودند و حیف است که در بین ما حضور دارند و فوتبال گیلان ظرفیت بالایی دارد، بازیکنان مثل علی کریمی و علیرضا جهانبخش نیز از این استان هستند .\n",
      "  رئیس فدراسیون فوتبال ایران پیروزی‌های تیم ملی را غرورآفرین دانست و تصریح کرد: پیروزی‌های اخیر تیم ملی فوتبال ایران را تبریک عرض می‌گویم و تیم‌های استانی در همه جای کشور کمک‌های زیادی برای رشد و توسعه فوتبال کشور انجام داده‌اند .\n",
      "  رئیس فدراسیون فوتبال با اسفبار خواندن شرایط گذشته فوتبال ایران افزود: وضعیت فوتبال ایران درگذشته بسیار سخت و اسفبار بود که از این مرحله گذشته‌ایم و عادت به باختن و عدم نتیجه‌گیری وجود ندارد و هر ایرانی در هر نقطه از ایران به خود می‌بالد که در قاره کهن آسیا می‌درخشیم و افتخار می‌کنیم که به‌عنوان عضوی از جامعه فوتبال خوشحالیم و امیدواریم فضا را به سمتی ببریم که نتایج مثبتی داشته باشد .\n",
      " رئیس فدراسیون فوتبال ایران با بیان اینکه فوتبال گیلان یکی از قطب‌های مهم فوتبال ساحلی کشورمان است، افزود: تلاش خواهیم کرد که از این ظرفیت استفاده کنیم و در فوتبال بانوان هم دو بانوی گیلانی هم با عدم تبعیض شانه‌به‌شانه با تیم ملی بزرگ‌سالان کشورمان در حال حرکت است .\n",
      "  خادم با اشاره به برنامه‌های آینده فدراسیون فوتبال گفت: مسابقات ایران کاپ را در آینده تقویم فدراسیون فوتبال برای برگزاری خواهیم داشت و برای زیر بیست سال جهت مبحث استعدادیابی و عدالت فوتبال با همکاری‌ها ۳۱ استان و جزیره کیش در سال آینده برگزار خواهد شد .\n",
      " به گفته رئیس فدراسیون فوتبال ایران، احتمال دارد که برخی با فرصت‌طلبی از رسانه‌های بزرگ برای تخریب فدراسیون فوتبال تلاش کنند ولی نمی‌توانند راه به‌جایی ببرند، اگر بتوانند در زمین حریف علیه ما بازی کنند ولی ملت ایران بزرگ‌تر این‌هاست و آرزوی بهترین‌ها را دارم .\n",
      " رئیس فدراسیون فوتبال ایران یک تیم لیگ برتری را حق فوتبال گیلان دانست و گفت: گیلان هم نشان داده که یکی از مهم‌ترین سرزمین‌های کشور است و امیدواریم که حداقل یک تیم در لیگ برتر داشته باشد .\n",
      " عضو هیات رئیسه فدراسیون فوتبال در خصوص اینکه این روزها خیلی ها درباره اساسنامه فدراسیون و تائید آن توسط مجلس شورای اسلامی صحبت می کنند عنوان کرد: با توجه به اینکه در اساسنامه و در بند یک آمده فدراسیون فوتبال جمهوری اسلامی ایران موسسه مستقل، غیر انتفاعی، غیر دولتی و دارای شخصیت حقوقی است، ان شاالله که مجلس محترم با نگاه هوشیارانه اساسنامه را تائید خواهد کرد .\n",
      "در بند 2 ماده 87 ( شکل حقوقی موقت) آمده است: باید به موجب بازنگری قانون ملی ورزش باشد که توسط دولت و مجلس ایران با همکاری فیفا و کنفدراسیون فوتبال آسیا صورت می گیرد .\n"
     ]
    }
   ],
   "source": [
    "for doc_id in a.index:\n",
    "    text = docs[str(doc_id)]['content']\n",
    "    sentences = tokenizer.tokenize_sentences(text)\n",
    "    tokens = PositionalIndex.preprocess(query)\n",
    "    for sentence in sentences:\n",
    "        if 'فدراسیون فوتبال' in sentence and 'ایران' in sentence and 'خارجی' not in sentence:\n",
    "            print(sentence)\n",
    "            found = True"
   ]
  },
  {
   "cell_type": "markdown",
   "id": "2052a489",
   "metadata": {},
   "source": [
    "# Phase 2"
   ]
  },
  {
   "cell_type": "code",
   "execution_count": 34,
   "id": "7d2088aa",
   "metadata": {
    "scrolled": false
   },
   "outputs": [
    {
     "name": "stderr",
     "output_type": "stream",
     "text": [
      "/home/mahdi/PycharmProjects/IRP01/positional_index/index.py:160: RuntimeWarning: divide by zero encountered in log\n",
      "  tf = 1 + np.log(postings_list.get_term_frequency(doc_id))\n"
     ]
    },
    {
     "data": {
      "text/plain": [
       "0.2011356791150753"
      ]
     },
     "execution_count": 34,
     "metadata": {},
     "output_type": "execute_result"
    }
   ],
   "source": [
    "doc1 = index.documents[0]\n",
    "doc2 = index.documents[1]\n",
    "index.get_cosine_similarity(doc1, doc2)"
   ]
  },
  {
   "cell_type": "code",
   "execution_count": null,
   "id": "3318dbaf",
   "metadata": {},
   "outputs": [],
   "source": []
  }
 ],
 "metadata": {
  "kernelspec": {
   "display_name": "textprocessing_venv",
   "language": "python",
   "name": "textprocessing_venv"
  },
  "language_info": {
   "codemirror_mode": {
    "name": "ipython",
    "version": 3
   },
   "file_extension": ".py",
   "mimetype": "text/x-python",
   "name": "python",
   "nbconvert_exporter": "python",
   "pygments_lexer": "ipython3",
   "version": "3.9.12"
  }
 },
 "nbformat": 4,
 "nbformat_minor": 5
}
